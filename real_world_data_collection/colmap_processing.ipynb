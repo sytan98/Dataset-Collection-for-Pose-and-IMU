{
 "cells": [
  {
   "cell_type": "code",
   "execution_count": null,
   "metadata": {},
   "outputs": [],
   "source": [
    "import numpy as np\n",
    "import pandas as pd\n",
    "import matplotlib.pyplot as plt\n",
    "import rowan\n",
    "from scipy.spatial.transform import Rotation as R\n",
    "from scipy import integrate\n",
    "import sys\n",
    "sys.path.append(\"../\")\n",
    "from utils import calc_quat_angle_error_single, calc_rel_orientation, convert_body_to_world"
   ]
  },
  {
   "cell_type": "markdown",
   "metadata": {},
   "source": [
    "## Prepare COLMAP, IMU and Frame files"
   ]
  },
  {
   "cell_type": "code",
   "execution_count": null,
   "metadata": {},
   "outputs": [],
   "source": [
    "aligned_colmap_image_file = 'C:/Users/tansi/Documents/Imperial_College_London/Year3/FYP_Project/aligned_campus_v3/images.txt'\n",
    "colmap_image_file = 'C:/Users/tansi/Documents/Imperial_College_London/Year3/FYP_Project/campus_colmap_v3/sparse/0/images.txt'\n",
    "motion_arh_data_file = './data/2022-06-20T22-00-37/MotARH.txt'\n",
    "motion_att_data_file = './data/2022-06-20T22-00-37/Motion.txt'\n",
    "frames_data_file = './data/2022-06-20T22-00-37/Frames.txt'\n",
    "arkit_data_file = './data/2022-06-20T22-00-37/ARposes.txt'\n",
    "\n",
    "test_aligned_colmap_image_file = 'C:/Users/tansi/Documents/Imperial_College_London/Year3/FYP_Project/aligned_campus_v3_test/images.txt'\n",
    "test_motion_arh_data_file = './data/2022-06-20T22-00-18/MotARH.txt'\n",
    "test_motion_att_data_file = './data/2022-06-20T22-00-18/Motion.txt'\n",
    "test_frames_data_file = './data/2022-06-20T22-00-18/Frames.txt'\n",
    "test_arkit_data_file = './data/2022-06-20T22-00-18/ARposes.txt'"
   ]
  },
  {
   "cell_type": "code",
   "execution_count": null,
   "metadata": {},
   "outputs": [],
   "source": [
    "frames_df = pd.read_csv(frames_data_file, sep = \",\",header=None)\n",
    "frames_df.columns = ['time','frameNumber','focalLenghtX','focalLenghtY','principalPointX','principalPointY']\n",
    "frames_df.head()"
   ]
  },
  {
   "cell_type": "code",
   "execution_count": null,
   "metadata": {},
   "outputs": [],
   "source": [
    "motion_arh_df = pd.read_csv(motion_arh_data_file, sep = \",\",header=None)\n",
    "motion_arh_df.columns = ['time','ang_vel_x','ang_vel_y','ang_vel_z',\n",
    "                 'gravity_x','gravity_y','gravity_z',\n",
    "                 'imu_acc_x','imu_acc_y','imu_acc_z', 'motionHeading']\n",
    "motion_arh_df.head()"
   ]
  },
  {
   "cell_type": "code",
   "execution_count": null,
   "metadata": {},
   "outputs": [],
   "source": [
    "orientation = pd.read_csv(motion_att_data_file, sep = \",\",header=None)\n",
    "orientation.columns = ['time','imu_Q_W', 'imu_Q_X', 'imu_Q_Y', 'imu_Q_Z']\n",
    "orientation[['imu_Q_W', 'imu_Q_X', 'imu_Q_Y', 'imu_Q_Z']].plot()"
   ]
  },
  {
   "cell_type": "code",
   "execution_count": null,
   "metadata": {},
   "outputs": [],
   "source": [
    "frames_df[\"imu_acc_x\"] = np.interp(frames_df[\"time\"], motion_arh_df[\"time\"], motion_arh_df[\"imu_acc_x\"])\n",
    "frames_df[\"imu_acc_y\"] = np.interp(frames_df[\"time\"], motion_arh_df[\"time\"], motion_arh_df[\"imu_acc_y\"])\n",
    "frames_df[\"imu_acc_z\"] = np.interp(frames_df[\"time\"], motion_arh_df[\"time\"], motion_arh_df[\"imu_acc_z\"])\n",
    "frames_df[\"ang_vel_x\"] = np.interp(frames_df[\"time\"], motion_arh_df[\"time\"], motion_arh_df[\"ang_vel_x\"])\n",
    "frames_df[\"ang_vel_y\"] = np.interp(frames_df[\"time\"], motion_arh_df[\"time\"], motion_arh_df[\"ang_vel_y\"])\n",
    "frames_df[\"ang_vel_z\"] = np.interp(frames_df[\"time\"], motion_arh_df[\"time\"], motion_arh_df[\"ang_vel_z\"])\n",
    "frames_df[\"imu_Q_W\"] = np.interp(frames_df[\"time\"], orientation[\"time\"], orientation[\"imu_Q_W\"])\n",
    "frames_df[\"imu_Q_X\"] = np.interp(frames_df[\"time\"], orientation[\"time\"], orientation[\"imu_Q_X\"])\n",
    "frames_df[\"imu_Q_Y\"] = np.interp(frames_df[\"time\"], orientation[\"time\"], orientation[\"imu_Q_Y\"])\n",
    "frames_df[\"imu_Q_Z\"] = np.interp(frames_df[\"time\"], orientation[\"time\"], orientation[\"imu_Q_Z\"])"
   ]
  },
  {
   "cell_type": "code",
   "execution_count": null,
   "metadata": {},
   "outputs": [],
   "source": [
    "frames_df[[\"imu_acc_x\", \"imu_acc_y\", \"imu_acc_z\"]].plot()"
   ]
  },
  {
   "cell_type": "code",
   "execution_count": null,
   "metadata": {},
   "outputs": [],
   "source": [
    "frames_df[\"imu_acc_x_global\"]  = frames_df.apply(lambda row :  convert_body_to_world(\n",
    "                                        np.array(row[['imu_acc_x', 'imu_acc_y', 'imu_acc_z']]),\n",
    "                                        np.array(row[['imu_Q_X', 'imu_Q_Y', 'imu_Q_Z', 'imu_Q_W', ]]))[0], axis = 1)\n",
    "frames_df[\"imu_acc_y_global\"]  = frames_df.apply(lambda row :  convert_body_to_world(\n",
    "                                        np.array(row[['imu_acc_x', 'imu_acc_y', 'imu_acc_z']]),\n",
    "                                        np.array(row[['imu_Q_X', 'imu_Q_Y', 'imu_Q_Z', 'imu_Q_W', ]]))[1], axis = 1)\n",
    "frames_df[\"imu_acc_z_global\"]  = frames_df.apply(lambda row :  convert_body_to_world(\n",
    "                                        np.array(row[['imu_acc_x', 'imu_acc_y', 'imu_acc_z']]),\n",
    "                                        np.array(row[['imu_Q_X', 'imu_Q_Y', 'imu_Q_Z', 'imu_Q_W', ]]))[2], axis = 1)\n",
    "frames_df[\"ang_vel_x_global\"]  = frames_df.apply(lambda row :  convert_body_to_world(\n",
    "                                        np.array(row[['ang_vel_x', 'ang_vel_y', 'ang_vel_z']]),\n",
    "                                        np.array(row[['imu_Q_X', 'imu_Q_Y', 'imu_Q_Z', 'imu_Q_W', ]]))[0], axis = 1)\n",
    "frames_df[\"ang_vel_y_global\"]  = frames_df.apply(lambda row :  convert_body_to_world(\n",
    "                                        np.array(row[['ang_vel_x', 'ang_vel_y', 'ang_vel_z']]),\n",
    "                                        np.array(row[['imu_Q_X', 'imu_Q_Y', 'imu_Q_Z', 'imu_Q_W', ]]))[1], axis = 1)\n",
    "frames_df[\"ang_vel_z_global\"]  = frames_df.apply(lambda row :  convert_body_to_world(\n",
    "                                        np.array(row[['ang_vel_x', 'ang_vel_y', 'ang_vel_z']]),\n",
    "                                        np.array(row[['imu_Q_X', 'imu_Q_Y', 'imu_Q_Z', 'imu_Q_W', ]]))[2], axis = 1)"
   ]
  },
  {
   "cell_type": "code",
   "execution_count": null,
   "metadata": {},
   "outputs": [],
   "source": [
    "from scipy import signal\n",
    "frames_df[\"seconds\"] = frames_df[\"time\"] - frames_df[\"time\"][0]\n",
    "frames_df[\"timestep\"] = frames_df[\"time\"] - frames_df[\"time\"].shift(1)\n",
    "frames_df[\"lin_vel_x\"] = integrate.cumtrapz(frames_df[\"imu_acc_x_global\"]*-9.81, frames_df[\"seconds\"], initial=0)\n",
    "frames_df[\"lin_vel_y\"] = integrate.cumtrapz(frames_df[\"imu_acc_y_global\"]*-9.81, frames_df[\"seconds\"], initial=0)\n",
    "frames_df[\"lin_vel_z\"] = integrate.cumtrapz(frames_df[\"imu_acc_z_global\"]*-9.81, frames_df[\"seconds\"], initial=0)\n",
    "frames_df[\"lin_vel_x\"] = signal.detrend(frames_df[\"lin_vel_x\"])\n",
    "frames_df[\"lin_vel_y\"] = signal.detrend(frames_df[\"lin_vel_y\"])\n",
    "frames_df[\"lin_vel_z\"] = signal.detrend(frames_df[\"lin_vel_z\"])\n",
    "frames_df[\"prev_lin_vel_x\"] = frames_df[\"lin_vel_x\"].shift(1)\n",
    "frames_df[\"prev_lin_vel_y\"] = frames_df[\"lin_vel_y\"].shift(1)\n",
    "frames_df[\"prev_lin_vel_z\"] = frames_df[\"lin_vel_z\"].shift(1)\n",
    "frames_df[\"prev_imu_acc_x\"] = frames_df[\"imu_acc_x\"].shift(1)\n",
    "frames_df[\"prev_imu_acc_y\"] = frames_df[\"imu_acc_y\"].shift(1)\n",
    "frames_df[\"prev_imu_acc_z\"] = frames_df[\"imu_acc_z\"].shift(1)"
   ]
  },
  {
   "cell_type": "code",
   "execution_count": null,
   "metadata": {},
   "outputs": [],
   "source": [
    "camera_poses = pd.DataFrame()\n",
    "\n",
    "with open(aligned_colmap_image_file, \"r\") as f:\n",
    "    for line in f.readlines()[4::2]:\n",
    "        values = line.strip('\\n').split(\" \")\n",
    "        name = values[-1]\n",
    "        q_w, q_x, q_y, q_z = values[1:5]\n",
    "        r = R.from_quat(np.hstack([float(q_x), float(q_y), float(q_z), float(q_w)]))\n",
    "        inv_r = r.inv()\n",
    "        t_x, t_y, t_z = values[5:8]\n",
    "        t_x, t_y, t_z = float(t_x), float(t_y), float(t_z)\n",
    "        x, y, z = -inv_r.apply(np.hstack([t_x, t_y, t_z]))\n",
    "        q_x_invert, q_y_invert, q_z_invert, q_w_invert = inv_r.as_quat()\n",
    "        camera_poses = pd.concat([camera_poses, \n",
    "                                  pd.DataFrame.from_records([{'ImageFile': name, \n",
    "                                                              'POS_X': x,\n",
    "                                                              'POS_Y': y,\n",
    "                                                              'POS_Z': z, \n",
    "                                                              'Q_W': q_w_invert,\n",
    "                                                              'Q_X': q_x_invert,\n",
    "                                                              'Q_Y': q_y_invert,\n",
    "                                                              'Q_Z': q_z_invert}])], ignore_index=True)\n",
    "camera_poses[\"idx\"] = camera_poses.apply(lambda row: int(row[\"ImageFile\"].split(\".\")[0][6:]), axis = 1)\n",
    "camera_poses.sort_values(by=\"idx\", inplace= True)\n",
    "camera_poses.reset_index(drop=True, inplace=True)"
   ]
  },
  {
   "cell_type": "code",
   "execution_count": null,
   "metadata": {},
   "outputs": [],
   "source": [
    "camera_poses.Q_W = camera_poses.Q_W.astype(float)\n",
    "camera_poses.Q_X = camera_poses.Q_X.astype(float)\n",
    "camera_poses.Q_Y = camera_poses.Q_Y.astype(float)\n",
    "camera_poses.Q_Z = camera_poses.Q_Z.astype(float)\n",
    "camera_poses[[\"Q_W\", \"Q_X\", \"Q_Y\", \"Q_Z\"]].plot()"
   ]
  },
  {
   "cell_type": "code",
   "execution_count": null,
   "metadata": {},
   "outputs": [],
   "source": [
    "test_camera_poses = pd.DataFrame()\n",
    "\n",
    "with open(test_aligned_colmap_image_file, \"r\") as f:\n",
    "    for line in f.readlines()[4::2]:\n",
    "        values = line.strip('\\n').split(\" \")\n",
    "        name = values[-1]\n",
    "        q_w, q_x, q_y, q_z = values[1:5]\n",
    "        r = R.from_quat(np.hstack([float(q_x), float(q_y), float(q_z), float(q_w)]))\n",
    "        inv_r = r.inv()\n",
    "        t_x, t_y, t_z = values[5:8]\n",
    "        t_x, t_y, t_z = float(t_x), float(t_y), float(t_z)\n",
    "        x, y, z = -inv_r.apply(np.hstack([t_x, t_y, t_z]))\n",
    "        q_x_invert, q_y_invert, q_z_invert, q_w_invert = inv_r.as_quat()\n",
    "        test_camera_poses = pd.concat([test_camera_poses, \n",
    "                                  pd.DataFrame.from_records([{'ImageFile': name, \n",
    "                                                              'POS_X': x,\n",
    "                                                              'POS_Y': y,\n",
    "                                                              'POS_Z': z, \n",
    "                                                              'Q_W': q_w_invert,\n",
    "                                                              'Q_X': q_x_invert,\n",
    "                                                              'Q_Y': q_y_invert,\n",
    "                                                              'Q_Z': q_z_invert}])], ignore_index=True)\n",
    "test_camera_poses[\"idx\"] = test_camera_poses.apply(lambda row: int(row[\"ImageFile\"].split(\".\")[0][6:]), axis = 1)\n",
    "test_camera_poses.sort_values(by=\"idx\", inplace= True)\n",
    "test_camera_poses.reset_index(drop=True, inplace=True)"
   ]
  },
  {
   "cell_type": "markdown",
   "metadata": {},
   "source": [
    "## Check alignment"
   ]
  },
  {
   "cell_type": "code",
   "execution_count": null,
   "metadata": {},
   "outputs": [],
   "source": [
    "arkit = pd.read_csv(arkit_data_file, sep = \",\",header=None)\n",
    "arkit.columns = ['time', 'POS_X', 'POS_Y', 'POS_Z', 'Q_W', 'Q_X', 'Q_Y', 'Q_Z']\n",
    "plt.figure()\n",
    "ax = plt.axes(projection= '3d')\n",
    "start = 0\n",
    "end = -1\n",
    "# +ve x is right, +ve y is up, +ve z is back\n",
    "ax.plot3D(arkit[\"POS_X\"][start:end], arkit[\"POS_Y\"][start:end], arkit[\"POS_Z\"][start:end], label = \"ARKIT Poses\", color = 'green')\n",
    "ax.plot3D(camera_poses[\"POS_X\"][start:end], camera_poses[\"POS_Y\"][start:end], camera_poses[\"POS_Z\"][start:end], label = \"COLMAP Poses\", color = 'red')\n",
    "ax.set_xlabel(\"x (m)\")\n",
    "ax.set_ylabel(\"y (m)\")\n",
    "ax.set_zlabel(\"z (m)\")\n",
    "ax.set_title(\"Rough COLMAP Alignment and IMU poses\")\n",
    "ax.legend()\n",
    "plt.show()"
   ]
  },
  {
   "cell_type": "code",
   "execution_count": null,
   "metadata": {},
   "outputs": [],
   "source": [
    "plt.figure()\n",
    "ax = plt.axes(projection= '3d')\n",
    "start = 0\n",
    "end = -1\n",
    "# +ve x is right, +ve y is up, +ve z is south\n",
    "ax.plot3D(camera_poses[\"POS_X\"][start:end], camera_poses[\"POS_Z\"][start:end], camera_poses[\"POS_Y\"][start:end], label = \"COLMAP Training Poses\", color = 'green')\n",
    "ax.plot3D(test_camera_poses[\"POS_X\"][start:end], test_camera_poses[\"POS_Z\"][start:end], test_camera_poses[\"POS_Y\"][start:end], label = \"COLMAP Test Poses\", color = 'red')\n",
    "ax.set_xlabel(\"x (m)\")\n",
    "ax.set_ylabel(\"z (m)\")\n",
    "ax.set_ylim([1.0, -1.5])\n",
    "ax.set_zlabel(\"y (m)\")\n",
    "ax.set_title(\"Aligned COLMAP training and test poses\")\n",
    "ax.legend()\n",
    "plt.show()"
   ]
  },
  {
   "cell_type": "code",
   "execution_count": null,
   "metadata": {},
   "outputs": [],
   "source": [
    "arkit[[\"Q_W\",\"Q_X\", \"Q_Y\", \"Q_Z\"]].plot()"
   ]
  },
  {
   "cell_type": "code",
   "execution_count": null,
   "metadata": {},
   "outputs": [],
   "source": [
    "temp = pd.DataFrame()\n",
    "temp[\"Q_X\"] = camera_poses[\"Q_W\"]\n",
    "temp[\"Q_Y\"] = camera_poses[\"Q_Z\"]\n",
    "temp[\"Q_Z\"] = -camera_poses[\"Q_Y\"]\n",
    "temp[\"Q_W\"] = -camera_poses[\"Q_X\"]\n",
    "temp[[\"Q_W\",\"Q_X\", \"Q_Y\", \"Q_Z\"]].plot()\n",
    "\n",
    "camera_poses[\"Q_X\"] = temp[\"Q_X\"]\n",
    "camera_poses[\"Q_Y\"] = temp[\"Q_Y\"]\n",
    "camera_poses[\"Q_Z\"] = temp[\"Q_Z\"]\n",
    "camera_poses[\"Q_W\"] = temp[\"Q_W\"]\n",
    "\n"
   ]
  },
  {
   "cell_type": "markdown",
   "metadata": {},
   "source": [
    "## Inject noise"
   ]
  },
  {
   "cell_type": "code",
   "execution_count": null,
   "metadata": {},
   "outputs": [],
   "source": [
    "np.random.seed(123)\n",
    "mode = 1"
   ]
  },
  {
   "cell_type": "code",
   "execution_count": null,
   "metadata": {},
   "outputs": [],
   "source": [
    "if mode == 0:\n",
    "    noise_x = 0\n",
    "    noise_y = 0\n",
    "    noise_z = 0\n",
    "elif mode == 1:\n",
    "    noise_x = np.random.normal(0,0.1,len(camera_poses))\n",
    "    noise_y = np.random.normal(0,0.05,len(camera_poses))\n",
    "    noise_z = np.random.normal(0,0.1,len(camera_poses))\n",
    "camera_poses[\"noisy_POS_X\"] = noise_x + camera_poses[\"POS_X\"]\n",
    "camera_poses[\"noisy_POS_Y\"] = noise_y + camera_poses[\"POS_Y\"]\n",
    "camera_poses[\"noisy_POS_Z\"] = noise_z + camera_poses[\"POS_Z\"]\n"
   ]
  },
  {
   "cell_type": "code",
   "execution_count": null,
   "metadata": {},
   "outputs": [],
   "source": [
    "if mode == 0:\n",
    "    noise_qw = 0\n",
    "    noise_qx = 0\n",
    "    noise_qy = 0\n",
    "    noise_qz = 0\n",
    "elif mode == 1:\n",
    "    noise_qw = np.random.normal(0,0.03,len(camera_poses))\n",
    "    noise_qx = np.random.normal(0,0.03,len(camera_poses))\n",
    "    noise_qy = np.random.normal(0,0.03,len(camera_poses))\n",
    "    noise_qz = np.random.normal(0,0.03,len(camera_poses))\n",
    "camera_poses[\"noisy_Q_W\"] = noise_qw + camera_poses[\"Q_W\"]\n",
    "camera_poses[\"noisy_Q_X\"] = noise_qx + camera_poses[\"Q_X\"]\n",
    "camera_poses[\"noisy_Q_Y\"] = noise_qy + camera_poses[\"Q_Y\"]\n",
    "camera_poses[\"noisy_Q_Z\"] = noise_qz + camera_poses[\"Q_Z\"]\n",
    "\n",
    "# Ensure that noisy quaternions is a valid rotation\n",
    "normalized_q = pd.DataFrame(rowan.normalize(camera_poses[[\"noisy_Q_W\", \"noisy_Q_X\", \"noisy_Q_Y\", \"noisy_Q_Z\"]]), columns=[\"noisy_Q_W\", \"noisy_Q_X\", \"noisy_Q_Y\", \"noisy_Q_Z\"])\n",
    "camera_poses[\"noisy_Q_W\"] = normalized_q[\"noisy_Q_W\"]\n",
    "camera_poses[\"noisy_Q_X\"] = normalized_q[\"noisy_Q_X\"]\n",
    "camera_poses[\"noisy_Q_Y\"] = normalized_q[\"noisy_Q_Y\"]\n",
    "camera_poses[\"noisy_Q_Z\"] = normalized_q[\"noisy_Q_Z\"]"
   ]
  },
  {
   "cell_type": "code",
   "execution_count": null,
   "metadata": {},
   "outputs": [],
   "source": [
    "plt.figure()\n",
    "ax = plt.axes(projection= '3d')\n",
    "start = 0\n",
    "end = -1\n",
    "# +ve x is right, +ve y is up, +ve z is back\n",
    "ax.plot3D(camera_poses[\"POS_X\"][start:end], camera_poses[\"POS_Z\"][start:end], camera_poses[\"POS_Y\"][start:end], label = \"Original COLMAP Training Poses\", color = 'green')\n",
    "ax.plot3D(camera_poses[\"noisy_POS_X\"][start:end], camera_poses[\"noisy_POS_Z\"][start:end], camera_poses[\"noisy_POS_Y\"][start:end], label = \"Noisy Training Poses\", color = 'blue')\n",
    "ax.set_xlabel(\"x (m)\")\n",
    "ax.set_ylabel(\"z (m)\")\n",
    "ax.set_ylim([1.0, -1.5])\n",
    "ax.set_zlabel(\"y (m)\")\n",
    "ax.set_title(\"Noisy COLMAP Training Poses\")\n",
    "ax.legend()\n",
    "plt.show()"
   ]
  },
  {
   "cell_type": "code",
   "execution_count": null,
   "metadata": {},
   "outputs": [],
   "source": [
    "imu_colmap_df = pd.concat([frames_df, camera_poses], axis = 1)"
   ]
  },
  {
   "cell_type": "markdown",
   "metadata": {},
   "source": [
    "## Obtain IMU derived relative translation"
   ]
  },
  {
   "cell_type": "code",
   "execution_count": null,
   "metadata": {},
   "outputs": [],
   "source": [
    "k = 15"
   ]
  },
  {
   "cell_type": "code",
   "execution_count": null,
   "metadata": {},
   "outputs": [],
   "source": [
    "results = []\n",
    "timesteps = []\n",
    "for i in range(k, len(imu_colmap_df)):\n",
    "    row = imu_colmap_df.iloc[i,:]\n",
    "    time = row.time\n",
    "    x, y, z = row.noisy_POS_X, row.noisy_POS_Y, row.noisy_POS_Z\n",
    "    time_taken = 0\n",
    "    imu_idx = 1\n",
    "    while imu_colmap_df.iloc[i - k + imu_idx,0] < time:\n",
    "        imu_row = imu_colmap_df.iloc[i - k + imu_idx,:]\n",
    "        z -= imu_row.prev_lin_vel_x * imu_row.timestep + 1/2 * imu_row.prev_imu_acc_x * imu_row.timestep ** 2 \n",
    "        x -= imu_row.prev_lin_vel_y * imu_row.timestep + 1/2 * imu_row.prev_imu_acc_y * imu_row.timestep ** 2 \n",
    "        y += imu_row.prev_lin_vel_z * imu_row.timestep + 1/2 * imu_row.prev_imu_acc_z * imu_row.timestep ** 2\n",
    "        imu_idx += 1\n",
    "        time_taken += imu_row.timestep\n",
    "    timesteps.append(time_taken)\n",
    "    results.append([x, y, z])\n",
    "\n",
    "imu_trans = pd.DataFrame(results, columns=[\"imu_POS_X\", \"imu_POS_Y\",\"imu_POS_Z\"])\n",
    "imu_trans[\"idx\"] = [i for i in range(k, len(imu_colmap_df))]\n",
    "imu_trans.set_index(\"idx\", inplace=True)\n",
    "print(np.mean(timesteps))"
   ]
  },
  {
   "cell_type": "code",
   "execution_count": null,
   "metadata": {},
   "outputs": [],
   "source": [
    "test_df = pd.concat([imu_colmap_df, imu_trans], axis = 1)"
   ]
  },
  {
   "cell_type": "code",
   "execution_count": null,
   "metadata": {},
   "outputs": [],
   "source": [
    "%matplotlib inline\n",
    "# test_df[[\"POS_X\", \"POS_Y\",\"POS_Z\", \"noisy_POS_X\", \"noisy_POS_Y\",\"noisy_POS_Z\", \"imu_POS_X\", \"imu_POS_Y\",\"imu_POS_Z\"]].plot()\n",
    "test_df[[\"POS_X\", \"POS_Y\",\"POS_Z\", \"imu_POS_X\", \"imu_POS_Y\",\"imu_POS_Z\"]].plot()"
   ]
  },
  {
   "cell_type": "code",
   "execution_count": null,
   "metadata": {},
   "outputs": [],
   "source": [
    "# True relative translation\n",
    "test_df[\"rel_POS_X\"] = test_df[\"POS_X\"] - test_df[\"POS_X\"].shift(k)\n",
    "test_df[\"rel_POS_Y\"] = test_df[\"POS_Y\"] - test_df[\"POS_Y\"].shift(k)\n",
    "test_df[\"rel_POS_Z\"] = test_df[\"POS_Z\"] - test_df[\"POS_Z\"].shift(k)\n",
    "\n",
    "# noisy relative translation\n",
    "test_df[\"noisy_rel_POS_X\"] = test_df[\"noisy_POS_X\"] - test_df[\"noisy_POS_X\"].shift(k)\n",
    "test_df[\"noisy_rel_POS_Y\"] = test_df[\"noisy_POS_Y\"] - test_df[\"noisy_POS_Y\"].shift(k)\n",
    "test_df[\"noisy_rel_POS_Z\"] = test_df[\"noisy_POS_Z\"] - test_df[\"noisy_POS_Z\"].shift(k)\n",
    "\n",
    "# imu relative translation\n",
    "test_df[\"imu_rel_POS_X\"] = test_df[\"imu_POS_X\"] - test_df[\"noisy_POS_X\"].shift(k)\n",
    "test_df[\"imu_rel_POS_Y\"] = test_df[\"imu_POS_Y\"] - test_df[\"noisy_POS_Y\"].shift(k)\n",
    "test_df[\"imu_rel_POS_Z\"] = test_df[\"imu_POS_Z\"] - test_df[\"noisy_POS_Z\"].shift(k)\n",
    "\n",
    "print(\"Just COLMAP\")\n",
    "err =[]\n",
    "for i in range(len(test_df) - k):\n",
    "    err.append(np.linalg.norm(np.array(test_df[[\"noisy_rel_POS_X\", \"noisy_rel_POS_Y\",\"noisy_rel_POS_Z\"]].iloc[k+i,:]) - np.array(test_df[[\"rel_POS_X\", \"rel_POS_Y\", \"rel_POS_Z\"]].iloc[k + i,:])))\n",
    "print(f'Translation error {np.median(err)} (median) m, {np.mean(err)} (mean) m')\n",
    "\n",
    "print(\"Just IMU\")\n",
    "err =[]\n",
    "for i in range(len(test_df) - k):\n",
    "    err.append(np.linalg.norm(np.array(test_df[[\"imu_rel_POS_X\", \"imu_rel_POS_Y\",\"imu_rel_POS_Z\"]].iloc[k+i,:]) - np.array(test_df[[\"rel_POS_X\", \"rel_POS_Y\", \"rel_POS_Z\"]].iloc[k + i,:])))\n",
    "print(f'Translation error {np.median(err)} (median) m, {np.mean(err)} (mean) m')"
   ]
  },
  {
   "cell_type": "markdown",
   "metadata": {},
   "source": [
    "## Obtain IMU derived absolute rotation"
   ]
  },
  {
   "cell_type": "code",
   "execution_count": null,
   "metadata": {},
   "outputs": [],
   "source": [
    "imu_colmap_df['prev_ang_vel_x_global'] = imu_colmap_df['ang_vel_x_global'].shift(1) \n",
    "imu_colmap_df['prev_ang_vel_y_global'] = imu_colmap_df['ang_vel_y_global'].shift(1)\n",
    "imu_colmap_df['prev_ang_vel_z_global'] = imu_colmap_df['ang_vel_z_global'].shift(1)"
   ]
  },
  {
   "cell_type": "code",
   "execution_count": null,
   "metadata": {},
   "outputs": [],
   "source": [
    "abs_results = []\n",
    "rel_results = []\n",
    "timesteps = []\n",
    "for i in range(k, len(imu_colmap_df)):\n",
    "    row = imu_colmap_df.iloc[i,:]\n",
    "    time = row.time\n",
    "    qw = row.noisy_Q_W\n",
    "    qx = row.noisy_Q_X\n",
    "    qy = row.noisy_Q_Y\n",
    "    qz = row.noisy_Q_Z\n",
    "    q_prev = np.array([qw, qx, qy, qz])\n",
    "    cur_q = q_prev\n",
    "    imu_idx = 1 \n",
    "    time_taken = 0\n",
    "    while imu_colmap_df.iloc[i - k + imu_idx,0] < time:\n",
    "        imu_row = imu_colmap_df.iloc[i - k + imu_idx,:]\n",
    "        cur_q = rowan.calculus.integrate (cur_q, \n",
    "                                        np.hstack([-row[\"prev_ang_vel_y_global\"],\n",
    "                                                   row[\"prev_ang_vel_z_global\"], \n",
    "                                                   -row[\"prev_ang_vel_x_global\"]]),\n",
    "                                        row['timestep'])\n",
    "        cur_q = rowan.normalize(cur_q)\n",
    "        imu_idx += 1\n",
    "        time_taken += imu_row.timestep\n",
    "    timesteps.append(time_taken)\n",
    "    rel_q = calc_rel_orientation(q_prev, cur_q)\n",
    "    abs_results.append(cur_q)\n",
    "    rel_results.append(rel_q)\n",
    "\n",
    "imu_q_ahrs = pd.DataFrame(abs_results, columns=[\"arkit_imu_Q_W\", \"arkit_imu_Q_X\", \"arkit_imu_Q_Y\", \"arkit_imu_Q_Z\"])\n",
    "imu_q_ahrs[\"idx\"] = [i for i in range(k, len(imu_colmap_df))]\n",
    "imu_q_ahrs.set_index(\"idx\", inplace=True)\n",
    "\n",
    "imu_q_ahrs_rel = pd.DataFrame(rel_results, columns=[\"imu_rel_Q_W\", \"imu_rel_Q_X\", \"imu_rel_Q_Y\", \"imu_rel_Q_Z\"])\n",
    "imu_q_ahrs_rel[\"idx\"] = [i for i in range(k, len(imu_colmap_df))]\n",
    "imu_q_ahrs_rel.set_index(\"idx\", inplace=True)\n",
    "print(np.mean(timesteps))"
   ]
  },
  {
   "cell_type": "code",
   "execution_count": null,
   "metadata": {},
   "outputs": [],
   "source": [
    "results = []\n",
    "for i in range(k, len(imu_colmap_df)):\n",
    "    qw = imu_colmap_df.iloc[i - k, :].noisy_Q_W\n",
    "    qx = imu_colmap_df.iloc[i - k, :].noisy_Q_X\n",
    "    qy = imu_colmap_df.iloc[i - k, :].noisy_Q_X\n",
    "    qz = imu_colmap_df.iloc[i - k, :].noisy_Q_Z\n",
    "    q_prev = np.array([qw, qx, qy, qz])\n",
    "    qw = imu_colmap_df.iloc[i, :].noisy_Q_W\n",
    "    qx = imu_colmap_df.iloc[i, :].noisy_Q_X\n",
    "    qy = imu_colmap_df.iloc[i, :].noisy_Q_X\n",
    "    qz = imu_colmap_df.iloc[i, :].noisy_Q_Z\n",
    "    q = np.array([qw, qx, qy, qz]) \n",
    "    \n",
    "    results.append(calc_rel_orientation(q_prev, q))\n",
    "noisy_orient_rel = pd.DataFrame(results, columns=[\"rel_Q_W\", \"rel_Q_X\", \"rel_Q_Y\", \"rel_Q_Z\"])\n",
    "noisy_orient_rel[\"idx\"] = [i for i in range(k, len(imu_colmap_df))]\n",
    "noisy_orient_rel.set_index(\"idx\", inplace=True)\n",
    "\n",
    "# True Relative orientation\n",
    "true_rel_orientation = []\n",
    "for i in range(k, len(imu_colmap_df)):\n",
    "    qw = imu_colmap_df.iloc[i - k, :].Q_W\n",
    "    qx = imu_colmap_df.iloc[i - k, :].Q_X\n",
    "    qy = imu_colmap_df.iloc[i - k, :].Q_X\n",
    "    qz = imu_colmap_df.iloc[i - k, :].Q_Z\n",
    "    q_prev = np.array([qw, qx, qy, qz])\n",
    "    qw = imu_colmap_df.iloc[i, :].Q_W\n",
    "    qx = imu_colmap_df.iloc[i, :].Q_X\n",
    "    qy = imu_colmap_df.iloc[i, :].Q_X\n",
    "    qz = imu_colmap_df.iloc[i, :].Q_Z\n",
    "    q = np.array([qw, qx, qy, qz]) \n",
    "    \n",
    "    true_rel_orientation.append(calc_rel_orientation(q_prev, q))\n",
    "true_rel = pd.DataFrame(true_rel_orientation, columns=[\"true_rel_Q_W\", \"true_rel_Q_X\", \"true_rel_Q_Y\", \"true_rel_Q_Z\"])\n",
    "true_rel[\"idx\"] = [i for i in range(k, len(imu_colmap_df))]\n",
    "true_rel.set_index(\"idx\", inplace=True)"
   ]
  },
  {
   "cell_type": "code",
   "execution_count": null,
   "metadata": {},
   "outputs": [],
   "source": [
    "print(\"Just COLMAP\")\n",
    "axis_angle_err =[]\n",
    "for i in range(len(imu_q_ahrs_rel)):\n",
    "    axis_angle_err.append(\n",
    "        calc_quat_angle_error_single(noisy_orient_rel[[\"rel_Q_W\", \"rel_Q_X\", \"rel_Q_Y\", \"rel_Q_Z\"]].iloc[i,:],\n",
    "                                    true_rel[[\"true_rel_Q_W\", \"true_rel_Q_X\", \"true_rel_Q_Y\", \"true_rel_Q_Z\"]].iloc[i,:])\n",
    "    )\n",
    "print(f'Orientation error {np.median(axis_angle_err)} (median) deg, {np.mean(axis_angle_err)} (mean) deg')\n",
    "\n",
    "print(\"AHRS\")\n",
    "axis_angle_err =[]\n",
    "for i in range(len(imu_q_ahrs_rel)):\n",
    "    axis_angle_err.append(\n",
    "        calc_quat_angle_error_single(imu_q_ahrs_rel[[\"imu_rel_Q_W\", \"imu_rel_Q_X\", \"imu_rel_Q_Y\", \"imu_rel_Q_Z\"]].iloc[i,:],\n",
    "                                    true_rel[[\"true_rel_Q_W\", \"true_rel_Q_X\", \"true_rel_Q_Y\", \"true_rel_Q_Z\"]].iloc[i,:])\n",
    "    )\n",
    "print(f'Orientation error {np.median(axis_angle_err)} (median) deg, {np.mean(axis_angle_err)} (mean) deg')"
   ]
  },
  {
   "cell_type": "code",
   "execution_count": null,
   "metadata": {},
   "outputs": [],
   "source": [
    "test_df = pd.concat([imu_colmap_df, imu_q_ahrs], axis = 1)\n",
    "plt.figure(figsize=(10,10))\n",
    "plt.plot(test_df[\"arkit_imu_Q_W\"], label=\"arkit_imu_Q_W\")\n",
    "plt.plot(test_df[\"arkit_imu_Q_X\"], label=\"arkit_imu_Q_X\")\n",
    "plt.plot(test_df[\"arkit_imu_Q_Y\"], label=\"arkit_imu_Q_Y\")\n",
    "plt.plot(test_df[\"arkit_imu_Q_Z\"], label=\"arkit_imu_Q_Z\")\n",
    "plt.plot(test_df[\"Q_W\"], label=\"Q_W\")\n",
    "plt.plot(test_df[\"Q_X\"], label=\"Q_X\")\n",
    "plt.plot(test_df[\"Q_Y\"], label=\"Q_Y\")\n",
    "plt.plot(test_df[\"Q_Z\"], label=\"Q_Z\")\n",
    "plt.legend()\n",
    "plt.show()"
   ]
  },
  {
   "cell_type": "code",
   "execution_count": null,
   "metadata": {},
   "outputs": [],
   "source": [
    "imu_colmap_df = pd.concat([imu_colmap_df[[\"ImageFile\", \"timestep\", \"POS_X\", \"POS_Y\", \"POS_Z\", \"Q_W\", \"Q_X\", \"Q_Y\", \"Q_Z\"]], imu_trans, imu_q_ahrs], axis = 1)"
   ]
  },
  {
   "cell_type": "markdown",
   "metadata": {},
   "source": [
    "## Write to file"
   ]
  },
  {
   "cell_type": "code",
   "execution_count": null,
   "metadata": {},
   "outputs": [],
   "source": [
    "final_write_file = imu_colmap_df[[\"ImageFile\", \n",
    "                                \"POS_X\", \"POS_Y\", \"POS_Z\", \n",
    "                                \"Q_W\", \"Q_X\", \"Q_Y\", \"Q_Z\",\n",
    "                                \"imu_POS_X\", \"imu_POS_Y\", \"imu_POS_Z\", \n",
    "                                \"arkit_imu_Q_W\", \"arkit_imu_Q_X\",\"arkit_imu_Q_Y\",\"arkit_imu_Q_Z\"\n",
    "                                ]]"
   ]
  },
  {
   "cell_type": "code",
   "execution_count": null,
   "metadata": {},
   "outputs": [],
   "source": [
    "final_write_file.rename(columns={\"arkit_imu_Q_W\": \"imu_Q_W\", \n",
    "                                 \"arkit_imu_Q_X\": \"imu_Q_X\",\n",
    "                                 \"arkit_imu_Q_Y\": \"imu_Q_Y\",\n",
    "                                 \"arkit_imu_Q_Z\": \"imu_Q_Z\"}, inplace=True)\n",
    "final_write_file.loc[0:k-1,'imu_POS_X'] = final_write_file.loc[0:k-1,'POS_X']\n",
    "final_write_file.loc[0:k-1,'imu_POS_Y'] = final_write_file.loc[0:k-1,'POS_Y']\n",
    "final_write_file.loc[0:k-1,'imu_POS_Z'] = final_write_file.loc[0:k-1,'POS_Z']\n",
    "final_write_file.loc[0:k-1,'imu_Q_W'] = final_write_file.loc[0:k-1,'Q_W']\n",
    "final_write_file.loc[0:k-1,'imu_Q_X'] = final_write_file.loc[0:k-1,'Q_X']\n",
    "final_write_file.loc[0:k-1,'imu_Q_Y'] = final_write_file.loc[0:k-1,'Q_Y']\n",
    "final_write_file.loc[0:k-1,'imu_Q_Z'] = final_write_file.loc[0:k-1,'Q_Z']"
   ]
  },
  {
   "cell_type": "code",
   "execution_count": null,
   "metadata": {},
   "outputs": [],
   "source": [
    "final_write_file[[\"POS_X\", \"POS_Y\", \"POS_Z\", \"imu_POS_X\", \"imu_POS_Y\", \"imu_POS_Z\"]].plot()\n",
    "final_write_file[[\"Q_W\", \"Q_X\", \"Q_Y\", \"Q_Z\", \"imu_Q_W\", \"imu_Q_X\", \"imu_Q_Y\", \"imu_Q_Z\"]].plot()"
   ]
  },
  {
   "cell_type": "code",
   "execution_count": null,
   "metadata": {},
   "outputs": [],
   "source": [
    "final_write_file.to_csv('D:/Imperial/FYP/captured_data/campus_v3/train/train_clean_skip_15.txt', \n",
    "                        header=True, \n",
    "                        index=None, \n",
    "                        sep=' ', \n",
    "                        mode='w')"
   ]
  }
 ],
 "metadata": {
  "kernelspec": {
   "display_name": "Python 3.10.5 ('imu')",
   "language": "python",
   "name": "python3"
  },
  "language_info": {
   "codemirror_mode": {
    "name": "ipython",
    "version": 3
   },
   "file_extension": ".py",
   "mimetype": "text/x-python",
   "name": "python",
   "nbconvert_exporter": "python",
   "pygments_lexer": "ipython3",
   "version": "3.10.5"
  },
  "orig_nbformat": 4,
  "vscode": {
   "interpreter": {
    "hash": "e114fece839044a8054c0aaa3bdbd75b217de5939a76fc671a63ad8057104e17"
   }
  }
 },
 "nbformat": 4,
 "nbformat_minor": 2
}
