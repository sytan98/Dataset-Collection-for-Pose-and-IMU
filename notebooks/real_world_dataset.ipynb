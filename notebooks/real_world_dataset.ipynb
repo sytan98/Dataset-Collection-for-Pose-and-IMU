{
 "cells": [
  {
   "cell_type": "code",
   "execution_count": 3,
   "metadata": {},
   "outputs": [],
   "source": [
    "import pandas as pd\n",
    "import numpy as np\n",
    "from scipy.spatial.transform import Rotation as R\n",
    "import matplotlib.pyplot as plt"
   ]
  },
  {
   "cell_type": "code",
   "execution_count": 4,
   "metadata": {},
   "outputs": [],
   "source": [
    "path = './2022-06-16T17-06-18/'\n",
    "test = './2022-06-16T17-07-10/'"
   ]
  },
  {
   "cell_type": "markdown",
   "metadata": {},
   "source": [
    "## Interpolate poses and frames for COLMAP model aligner"
   ]
  },
  {
   "cell_type": "code",
   "execution_count": 3,
   "metadata": {},
   "outputs": [
    {
     "data": {
      "text/html": [
       "<div>\n",
       "<style scoped>\n",
       "    .dataframe tbody tr th:only-of-type {\n",
       "        vertical-align: middle;\n",
       "    }\n",
       "\n",
       "    .dataframe tbody tr th {\n",
       "        vertical-align: top;\n",
       "    }\n",
       "\n",
       "    .dataframe thead th {\n",
       "        text-align: right;\n",
       "    }\n",
       "</style>\n",
       "<table border=\"1\" class=\"dataframe\">\n",
       "  <thead>\n",
       "    <tr style=\"text-align: right;\">\n",
       "      <th></th>\n",
       "      <th>time</th>\n",
       "      <th>POS_X</th>\n",
       "      <th>POS_Y</th>\n",
       "      <th>POS_Z</th>\n",
       "      <th>Q_W</th>\n",
       "      <th>Q_X</th>\n",
       "      <th>Q_Y</th>\n",
       "      <th>Q_Z</th>\n",
       "    </tr>\n",
       "  </thead>\n",
       "  <tbody>\n",
       "    <tr>\n",
       "      <th>0</th>\n",
       "      <td>1.655396e+09</td>\n",
       "      <td>0.000051</td>\n",
       "      <td>-0.000470</td>\n",
       "      <td>-0.000249</td>\n",
       "      <td>0.997333</td>\n",
       "      <td>-0.072928</td>\n",
       "      <td>0.000785</td>\n",
       "      <td>-0.002853</td>\n",
       "    </tr>\n",
       "    <tr>\n",
       "      <th>1</th>\n",
       "      <td>1.655396e+09</td>\n",
       "      <td>0.000045</td>\n",
       "      <td>-0.000479</td>\n",
       "      <td>-0.000235</td>\n",
       "      <td>0.997343</td>\n",
       "      <td>-0.072794</td>\n",
       "      <td>0.000736</td>\n",
       "      <td>-0.002847</td>\n",
       "    </tr>\n",
       "    <tr>\n",
       "      <th>2</th>\n",
       "      <td>1.655396e+09</td>\n",
       "      <td>0.000041</td>\n",
       "      <td>-0.000450</td>\n",
       "      <td>-0.000220</td>\n",
       "      <td>0.997345</td>\n",
       "      <td>-0.072760</td>\n",
       "      <td>0.000764</td>\n",
       "      <td>-0.002872</td>\n",
       "    </tr>\n",
       "    <tr>\n",
       "      <th>3</th>\n",
       "      <td>1.655396e+09</td>\n",
       "      <td>0.000034</td>\n",
       "      <td>-0.000444</td>\n",
       "      <td>-0.000247</td>\n",
       "      <td>0.997325</td>\n",
       "      <td>-0.073028</td>\n",
       "      <td>0.000744</td>\n",
       "      <td>-0.002850</td>\n",
       "    </tr>\n",
       "    <tr>\n",
       "      <th>4</th>\n",
       "      <td>1.655396e+09</td>\n",
       "      <td>0.000029</td>\n",
       "      <td>-0.000442</td>\n",
       "      <td>-0.000273</td>\n",
       "      <td>0.997306</td>\n",
       "      <td>-0.073288</td>\n",
       "      <td>0.000731</td>\n",
       "      <td>-0.002862</td>\n",
       "    </tr>\n",
       "  </tbody>\n",
       "</table>\n",
       "</div>"
      ],
      "text/plain": [
       "           time     POS_X     POS_Y     POS_Z       Q_W       Q_X       Q_Y  \\\n",
       "0  1.655396e+09  0.000051 -0.000470 -0.000249  0.997333 -0.072928  0.000785   \n",
       "1  1.655396e+09  0.000045 -0.000479 -0.000235  0.997343 -0.072794  0.000736   \n",
       "2  1.655396e+09  0.000041 -0.000450 -0.000220  0.997345 -0.072760  0.000764   \n",
       "3  1.655396e+09  0.000034 -0.000444 -0.000247  0.997325 -0.073028  0.000744   \n",
       "4  1.655396e+09  0.000029 -0.000442 -0.000273  0.997306 -0.073288  0.000731   \n",
       "\n",
       "        Q_Z  \n",
       "0 -0.002853  \n",
       "1 -0.002847  \n",
       "2 -0.002872  \n",
       "3 -0.002850  \n",
       "4 -0.002862  "
      ]
     },
     "execution_count": 3,
     "metadata": {},
     "output_type": "execute_result"
    }
   ],
   "source": [
    "df = pd.read_csv(path + 'ARposes.txt', sep = \",\",header=None)\n",
    "df.columns = ['time', 'POS_X', 'POS_Y', 'POS_Z', 'Q_W', 'Q_X', 'Q_Y', 'Q_Z']\n",
    "df.head()"
   ]
  },
  {
   "cell_type": "code",
   "execution_count": 8,
   "metadata": {},
   "outputs": [],
   "source": [
    "test_df = pd.read_csv(test + 'ARposes.txt', sep = \",\",header=None)\n",
    "test_df.columns = ['time', 'POS_X', 'POS_Y', 'POS_Z', 'Q_W', 'Q_X', 'Q_Y', 'Q_Z']\n",
    "frames_df = pd.read_csv(test + 'Frames.txt', sep = \",\",header=None)\n",
    "frames_df.columns = ['time','frameNumber','focalLenghtX','focalLenghtY','principalPointX','principalPointY']"
   ]
  },
  {
   "cell_type": "code",
   "execution_count": 9,
   "metadata": {},
   "outputs": [
    {
     "data": {
      "text/plain": [
       "<AxesSubplot:>"
      ]
     },
     "execution_count": 9,
     "metadata": {},
     "output_type": "execute_result"
    },
    {
     "data": {
      "image/png": "[encoded data removed]",
      "text/plain": [
       "<Figure size 432x288 with 1 Axes>"
      ]
     },
     "metadata": {
      "needs_background": "light"
     },
     "output_type": "display_data"
    }
   ],
   "source": [
    "frames_df[\"pos_x_interp\"] = np.interp(frames_df[\"time\"], test_df[\"time\"], test_df[\"POS_X\"])\n",
    "frames_df[\"pos_y_interp\"] = np.interp(frames_df[\"time\"], test_df[\"time\"], test_df[\"POS_Y\"])\n",
    "frames_df[\"pos_z_interp\"] = np.interp(frames_df[\"time\"], test_df[\"time\"], test_df[\"POS_Z\"])\n",
    "frames_df[[\"pos_x_interp\", \"pos_y_interp\", \"pos_z_interp\"]].plot()"
   ]
  },
  {
   "cell_type": "code",
   "execution_count": 11,
   "metadata": {},
   "outputs": [
    {
     "data": {
      "text/html": [
       "<div>\n",
       "<style scoped>\n",
       "    .dataframe tbody tr th:only-of-type {\n",
       "        vertical-align: middle;\n",
       "    }\n",
       "\n",
       "    .dataframe tbody tr th {\n",
       "        vertical-align: top;\n",
       "    }\n",
       "\n",
       "    .dataframe thead th {\n",
       "        text-align: right;\n",
       "    }\n",
       "</style>\n",
       "<table border=\"1\" class=\"dataframe\">\n",
       "  <thead>\n",
       "    <tr style=\"text-align: right;\">\n",
       "      <th></th>\n",
       "      <th>time</th>\n",
       "      <th>frameNumber</th>\n",
       "      <th>focalLenghtX</th>\n",
       "      <th>focalLenghtY</th>\n",
       "      <th>principalPointX</th>\n",
       "      <th>principalPointY</th>\n",
       "      <th>pos_x_interp</th>\n",
       "      <th>pos_y_interp</th>\n",
       "      <th>pos_z_interp</th>\n",
       "    </tr>\n",
       "  </thead>\n",
       "  <tbody>\n",
       "    <tr>\n",
       "      <th>0</th>\n",
       "      <td>1.655396e+09</td>\n",
       "      <td>0</td>\n",
       "      <td>1606.102417</td>\n",
       "      <td>1606.102417</td>\n",
       "      <td>952.858826</td>\n",
       "      <td>681.516602</td>\n",
       "      <td>0.043914</td>\n",
       "      <td>-0.006917</td>\n",
       "      <td>-0.001010</td>\n",
       "    </tr>\n",
       "    <tr>\n",
       "      <th>200</th>\n",
       "      <td>1.655396e+09</td>\n",
       "      <td>200</td>\n",
       "      <td>1582.933350</td>\n",
       "      <td>1582.933350</td>\n",
       "      <td>954.109863</td>\n",
       "      <td>682.367371</td>\n",
       "      <td>1.237320</td>\n",
       "      <td>0.570658</td>\n",
       "      <td>-0.788729</td>\n",
       "    </tr>\n",
       "    <tr>\n",
       "      <th>400</th>\n",
       "      <td>1.655396e+09</td>\n",
       "      <td>400</td>\n",
       "      <td>1579.802368</td>\n",
       "      <td>1579.802368</td>\n",
       "      <td>954.242859</td>\n",
       "      <td>682.333069</td>\n",
       "      <td>-1.036789</td>\n",
       "      <td>0.605029</td>\n",
       "      <td>-0.413223</td>\n",
       "    </tr>\n",
       "  </tbody>\n",
       "</table>\n",
       "</div>"
      ],
      "text/plain": [
       "             time  frameNumber  focalLenghtX  focalLenghtY  principalPointX  \\\n",
       "0    1.655396e+09            0   1606.102417   1606.102417       952.858826   \n",
       "200  1.655396e+09          200   1582.933350   1582.933350       954.109863   \n",
       "400  1.655396e+09          400   1579.802368   1579.802368       954.242859   \n",
       "\n",
       "     principalPointY  pos_x_interp  pos_y_interp  pos_z_interp  \n",
       "0         681.516602      0.043914     -0.006917     -0.001010  \n",
       "200       682.367371      1.237320      0.570658     -0.788729  \n",
       "400       682.333069     -1.036789      0.605029     -0.413223  "
      ]
     },
     "execution_count": 11,
     "metadata": {},
     "output_type": "execute_result"
    }
   ],
   "source": [
    "frames_df[frames_df.frameNumber.isin([0, 200, 400])]"
   ]
  },
  {
   "cell_type": "code",
   "execution_count": 6,
   "metadata": {},
   "outputs": [
    {
     "data": {
      "text/plain": [
       "<AxesSubplot:>"
      ]
     },
     "execution_count": 6,
     "metadata": {},
     "output_type": "execute_result"
    },
    {
     "data": {
      "image/png": "[encoded data removed]",
      "text/plain": [
       "<Figure size 432x288 with 1 Axes>"
      ]
     },
     "metadata": {
      "needs_background": "light"
     },
     "output_type": "display_data"
    },
    {
     "data": {
      "image/png": "[encoded data removed]",
      "text/plain": [
       "<Figure size 432x288 with 1 Axes>"
      ]
     },
     "metadata": {
      "needs_background": "light"
     },
     "output_type": "display_data"
    }
   ],
   "source": [
    "df[[\"POS_X\", 'POS_Y', 'POS_Z']].plot()\n",
    "test_df[[\"POS_X\", 'POS_Y', 'POS_Z']].plot()"
   ]
  },
  {
   "cell_type": "code",
   "execution_count": 7,
   "metadata": {},
   "outputs": [
    {
     "data": {
      "text/html": [
       "<div>\n",
       "<style scoped>\n",
       "    .dataframe tbody tr th:only-of-type {\n",
       "        vertical-align: middle;\n",
       "    }\n",
       "\n",
       "    .dataframe tbody tr th {\n",
       "        vertical-align: top;\n",
       "    }\n",
       "\n",
       "    .dataframe thead th {\n",
       "        text-align: right;\n",
       "    }\n",
       "</style>\n",
       "<table border=\"1\" class=\"dataframe\">\n",
       "  <thead>\n",
       "    <tr style=\"text-align: right;\">\n",
       "      <th></th>\n",
       "      <th>time</th>\n",
       "      <th>frameNumber</th>\n",
       "      <th>focalLenghtX</th>\n",
       "      <th>focalLenghtY</th>\n",
       "      <th>principalPointX</th>\n",
       "      <th>principalPointY</th>\n",
       "    </tr>\n",
       "  </thead>\n",
       "  <tbody>\n",
       "    <tr>\n",
       "      <th>0</th>\n",
       "      <td>1.655396e+09</td>\n",
       "      <td>0</td>\n",
       "      <td>1597.961914</td>\n",
       "      <td>1597.961914</td>\n",
       "      <td>952.659119</td>\n",
       "      <td>682.060913</td>\n",
       "    </tr>\n",
       "    <tr>\n",
       "      <th>1</th>\n",
       "      <td>1.655396e+09</td>\n",
       "      <td>1</td>\n",
       "      <td>1597.961914</td>\n",
       "      <td>1597.961914</td>\n",
       "      <td>952.641968</td>\n",
       "      <td>682.077271</td>\n",
       "    </tr>\n",
       "    <tr>\n",
       "      <th>2</th>\n",
       "      <td>1.655396e+09</td>\n",
       "      <td>2</td>\n",
       "      <td>1597.961914</td>\n",
       "      <td>1597.961914</td>\n",
       "      <td>952.585266</td>\n",
       "      <td>682.240295</td>\n",
       "    </tr>\n",
       "    <tr>\n",
       "      <th>3</th>\n",
       "      <td>1.655396e+09</td>\n",
       "      <td>3</td>\n",
       "      <td>1597.961914</td>\n",
       "      <td>1597.961914</td>\n",
       "      <td>952.630920</td>\n",
       "      <td>682.117310</td>\n",
       "    </tr>\n",
       "    <tr>\n",
       "      <th>4</th>\n",
       "      <td>1.655396e+09</td>\n",
       "      <td>4</td>\n",
       "      <td>1597.961914</td>\n",
       "      <td>1597.961914</td>\n",
       "      <td>952.690735</td>\n",
       "      <td>682.143982</td>\n",
       "    </tr>\n",
       "  </tbody>\n",
       "</table>\n",
       "</div>"
      ],
      "text/plain": [
       "           time  frameNumber  focalLenghtX  focalLenghtY  principalPointX  \\\n",
       "0  1.655396e+09            0   1597.961914   1597.961914       952.659119   \n",
       "1  1.655396e+09            1   1597.961914   1597.961914       952.641968   \n",
       "2  1.655396e+09            2   1597.961914   1597.961914       952.585266   \n",
       "3  1.655396e+09            3   1597.961914   1597.961914       952.630920   \n",
       "4  1.655396e+09            4   1597.961914   1597.961914       952.690735   \n",
       "\n",
       "   principalPointY  \n",
       "0       682.060913  \n",
       "1       682.077271  \n",
       "2       682.240295  \n",
       "3       682.117310  \n",
       "4       682.143982  "
      ]
     },
     "execution_count": 7,
     "metadata": {},
     "output_type": "execute_result"
    }
   ],
   "source": [
    "frames_df = pd.read_csv(path + 'Frames.txt', sep = \",\",header=None)\n",
    "frames_df.columns = ['time','frameNumber','focalLenghtX','focalLenghtY','principalPointX','principalPointY']\n",
    "frames_df.head()"
   ]
  },
  {
   "cell_type": "code",
   "execution_count": 12,
   "metadata": {},
   "outputs": [],
   "source": [
    "frames_df[\"pos_x_interp\"] = np.interp(frames_df[\"time\"], df[\"time\"], df[\"POS_X\"])\n",
    "frames_df[\"pos_y_interp\"] = np.interp(frames_df[\"time\"], df[\"time\"], df[\"POS_Y\"])\n",
    "frames_df[\"pos_z_interp\"] = np.interp(frames_df[\"time\"], df[\"time\"], df[\"POS_Z\"])"
   ]
  },
  {
   "cell_type": "code",
   "execution_count": 13,
   "metadata": {},
   "outputs": [
    {
     "data": {
      "text/plain": [
       "<AxesSubplot:>"
      ]
     },
     "execution_count": 13,
     "metadata": {},
     "output_type": "execute_result"
    },
    {
     "data": {
      "image/png": "[encoded data removed]",
      "text/plain": [
       "<Figure size 432x288 with 1 Axes>"
      ]
     },
     "metadata": {
      "needs_background": "light"
     },
     "output_type": "display_data"
    }
   ],
   "source": [
    "frames_df[[\"pos_x_interp\", \"pos_y_interp\", \"pos_z_interp\"]].plot()"
   ]
  },
  {
   "cell_type": "code",
   "execution_count": 14,
   "metadata": {},
   "outputs": [
    {
     "data": {
      "text/html": [
       "<div>\n",
       "<style scoped>\n",
       "    .dataframe tbody tr th:only-of-type {\n",
       "        vertical-align: middle;\n",
       "    }\n",
       "\n",
       "    .dataframe tbody tr th {\n",
       "        vertical-align: top;\n",
       "    }\n",
       "\n",
       "    .dataframe thead th {\n",
       "        text-align: right;\n",
       "    }\n",
       "</style>\n",
       "<table border=\"1\" class=\"dataframe\">\n",
       "  <thead>\n",
       "    <tr style=\"text-align: right;\">\n",
       "      <th></th>\n",
       "      <th>time</th>\n",
       "      <th>frameNumber</th>\n",
       "      <th>focalLenghtX</th>\n",
       "      <th>focalLenghtY</th>\n",
       "      <th>principalPointX</th>\n",
       "      <th>principalPointY</th>\n",
       "      <th>pos_x_interp</th>\n",
       "      <th>pos_y_interp</th>\n",
       "      <th>pos_z_interp</th>\n",
       "    </tr>\n",
       "  </thead>\n",
       "  <tbody>\n",
       "    <tr>\n",
       "      <th>0</th>\n",
       "      <td>1.655396e+09</td>\n",
       "      <td>0</td>\n",
       "      <td>1597.961914</td>\n",
       "      <td>1597.961914</td>\n",
       "      <td>952.659119</td>\n",
       "      <td>682.060913</td>\n",
       "      <td>0.000051</td>\n",
       "      <td>-0.000470</td>\n",
       "      <td>-0.000249</td>\n",
       "    </tr>\n",
       "    <tr>\n",
       "      <th>300</th>\n",
       "      <td>1.655396e+09</td>\n",
       "      <td>300</td>\n",
       "      <td>1577.923706</td>\n",
       "      <td>1577.923706</td>\n",
       "      <td>953.211792</td>\n",
       "      <td>683.977051</td>\n",
       "      <td>-1.638658</td>\n",
       "      <td>0.635066</td>\n",
       "      <td>-1.242551</td>\n",
       "    </tr>\n",
       "    <tr>\n",
       "      <th>600</th>\n",
       "      <td>1.655396e+09</td>\n",
       "      <td>600</td>\n",
       "      <td>1579.176147</td>\n",
       "      <td>1579.176147</td>\n",
       "      <td>951.874756</td>\n",
       "      <td>685.013367</td>\n",
       "      <td>0.304727</td>\n",
       "      <td>0.445891</td>\n",
       "      <td>0.210545</td>\n",
       "    </tr>\n",
       "  </tbody>\n",
       "</table>\n",
       "</div>"
      ],
      "text/plain": [
       "             time  frameNumber  focalLenghtX  focalLenghtY  principalPointX  \\\n",
       "0    1.655396e+09            0   1597.961914   1597.961914       952.659119   \n",
       "300  1.655396e+09          300   1577.923706   1577.923706       953.211792   \n",
       "600  1.655396e+09          600   1579.176147   1579.176147       951.874756   \n",
       "\n",
       "     principalPointY  pos_x_interp  pos_y_interp  pos_z_interp  \n",
       "0         682.060913      0.000051     -0.000470     -0.000249  \n",
       "300       683.977051     -1.638658      0.635066     -1.242551  \n",
       "600       685.013367      0.304727      0.445891      0.210545  "
      ]
     },
     "execution_count": 14,
     "metadata": {},
     "output_type": "execute_result"
    }
   ],
   "source": [
    "frames_df[frames_df.frameNumber.isin([0, 300, 600])]"
   ]
  },
  {
   "cell_type": "code",
   "execution_count": null,
   "metadata": {},
   "outputs": [],
   "source": [
    "%matplotlib ipympl\n",
    "plt.figure()\n",
    "step = 100\n",
    "ax = plt.axes(projection= '3d')\n",
    "ax.plot3D(-df[\"POS_X\"], df[\"POS_Z\"], df[\"POS_Y\"], label = \"Original ground truth train poses\", color = 'Green')\n",
    "ax.plot3D(-test_df[\"POS_X\"], test_df[\"POS_Z\"], test_df[\"POS_Y\"], label = \"Original ground truth train poses\", color = 'Red')\n",
    "# ax.set_zlim([-2, -5])\n",
    "ax.set_xlabel(\"x (m)\")\n",
    "ax.set_ylabel(\"z (m)\")\n",
    "ax.set_zlabel(\"y (m)\")\n",
    "ax.legend()\n",
    "plt.show()"
   ]
  },
  {
   "cell_type": "code",
   "execution_count": null,
   "metadata": {},
   "outputs": [],
   "source": [
    "def quat_to_euler(row):\n",
    "    r = R.from_quat([row[\"Q_X\"], row[\"Q_Y\"], row[\"Q_Z\"], row[\"Q_W\"]])\n",
    "    return r.as_euler('ZYX', degrees=True)\n",
    "euler = df.apply(lambda row : quat_to_euler(row), axis = 1)\n",
    "df_euler = pd.DataFrame(euler.to_list(), columns=['azimuth','pitch', 'roll'])\n",
    "df_euler.plot()"
   ]
  },
  {
   "cell_type": "code",
   "execution_count": null,
   "metadata": {},
   "outputs": [],
   "source": [
    "orientation = pd.read_csv(path + 'Motion.txt', sep = \",\",header=None)\n",
    "orientation.columns = ['time','imu_Q_W', 'imu_Q_X', 'imu_Q_Y', 'imu_Q_Z']\n",
    "orientation.head()"
   ]
  },
  {
   "cell_type": "code",
   "execution_count": null,
   "metadata": {},
   "outputs": [],
   "source": [
    "def quat_to_euler(row):\n",
    "    r = R.from_quat([row[\"imu_Q_X\"], row[\"imu_Q_Y\"], row[\"imu_Q_Z\"], row[\"imu_Q_W\"]])\n",
    "    return r.as_euler('ZYX', degrees=True)\n",
    "euler = orientation.apply(lambda row : quat_to_euler(row), axis = 1)\n",
    "df_euler = pd.DataFrame(euler.to_list(), columns=['azimuth','pitch', 'roll'])\n",
    "df_euler.plot()"
   ]
  },
  {
   "cell_type": "code",
   "execution_count": null,
   "metadata": {},
   "outputs": [],
   "source": [
    "accel = pd.read_csv(path + 'MotARH.txt', sep = \",\",header=None)\n",
    "accel.columns = ['time','ang_vel_x','ang_vel_y','ang_vel_z',\n",
    "                 'gravity_x','gravity_y','gravity_z',\n",
    "                 'imu_acc_x','imu_acc_y','imu_acc_z', 'motionHeading']\n",
    "accel.head()"
   ]
  },
  {
   "cell_type": "code",
   "execution_count": null,
   "metadata": {},
   "outputs": [],
   "source": [
    "accel[['imu_acc_x', 'imu_acc_y', 'imu_acc_z']].plot()\n",
    "accel[['ang_vel_x','ang_vel_y','ang_vel_z']].plot()"
   ]
  },
  {
   "cell_type": "code",
   "execution_count": null,
   "metadata": {},
   "outputs": [],
   "source": [
    "accel[\"seconds\"] = accel[\"time\"] - accel[\"time\"][0]\n",
    "accel.head()"
   ]
  },
  {
   "cell_type": "code",
   "execution_count": null,
   "metadata": {},
   "outputs": [],
   "source": [
    "from scipy import integrate\n",
    "from scipy import signal\n",
    "plt.figure()\n",
    "t = accel[\"seconds\"]\n",
    "vel_x = integrate.cumtrapz(accel[\"imu_acc_x\"], t, initial=0)\n",
    "vel_y = integrate.cumtrapz(accel[\"imu_acc_y\"], t, initial=0)\n",
    "vel_z = integrate.cumtrapz(accel[\"imu_acc_z\"], t, initial=0) \n",
    "plt.plot(vel_x, label = \"vel_x\")\n",
    "plt.plot(vel_y, label = \"vel_y\")\n",
    "plt.plot(vel_z, label = \"vel_z\")\n",
    "# vel_x = signal.detrend(vel_x)\n",
    "# vel_y = signal.detrend(vel_y)\n",
    "# vel_z = signal.detrend(vel_z)\n",
    "pos_x = integrate.cumtrapz(vel_x, t, initial=0)\n",
    "pos_y = integrate.cumtrapz(vel_y, t, initial=0)\n",
    "pos_z = integrate.cumtrapz(vel_z, t, initial=0)\n",
    "plt.legend()\n",
    "plt.figure() \n",
    "# pos_x = signal.detrend(pos_x)\n",
    "# pos_y = signal.detrend(pos_y)\n",
    "# pos_z = signal.detrend(pos_z)\n",
    "plt.plot(t,pos_x, label = 'pos_x')\n",
    "plt.plot(t,pos_y, label = 'pos_y')\n",
    "plt.plot(t,pos_z, label = 'pos_z')\n",
    "plt.legend()"
   ]
  },
  {
   "cell_type": "code",
   "execution_count": null,
   "metadata": {},
   "outputs": [],
   "source": [
    "combined = pd.concat([df, \n",
    "                      accel[[\"imu_acc_x\", \"imu_acc_y\", \"imu_acc_z\"]]],\n",
    "                      axis= 1)\n",
    "combined[\"seconds\"] = combined[\"time\"] - combined[\"time\"][0]\n",
    "combined[\"timestep\"] = combined[\"time\"] - combined[\"time\"].shift(1)\n",
    "combined.head()"
   ]
  },
  {
   "cell_type": "code",
   "execution_count": null,
   "metadata": {},
   "outputs": [],
   "source": [
    "accel[\"seconds\"] = accel[\"time\"] - accel[\"time\"][0]\n",
    "accel[\"timestep\"] = accel[\"time\"] - accel[\"time\"].shift(1)\n",
    "accel[\"lin_vel_x\"] = integrate.cumtrapz(accel[\"imu_acc_x\"], accel[\"time\"], initial=0)\n",
    "accel[\"lin_vel_y\"] = integrate.cumtrapz(accel[\"imu_acc_y\"], accel[\"time\"], initial=0)\n",
    "accel[\"lin_vel_z\"] = integrate.cumtrapz(accel[\"imu_acc_z\"], accel[\"time\"], initial=0)\n",
    "accel[\"prev_lin_vel_x\"] = accel[\"lin_vel_x\"].shift(1)\n",
    "accel[\"prev_lin_vel_y\"] = accel[\"lin_vel_y\"].shift(1)\n",
    "accel[\"prev_lin_vel_z\"] = accel[\"lin_vel_z\"].shift(1)\n",
    "accel[\"prev_imu_acc_x\"] = accel[\"imu_acc_x\"].shift(1)\n",
    "accel[\"prev_imu_acc_y\"] = accel[\"imu_acc_y\"].shift(1)\n",
    "accel[\"prev_imu_acc_z\"] = accel[\"imu_acc_z\"].shift(1)"
   ]
  },
  {
   "cell_type": "code",
   "execution_count": null,
   "metadata": {},
   "outputs": [],
   "source": [
    "image_frame_step = 100"
   ]
  },
  {
   "cell_type": "code",
   "execution_count": null,
   "metadata": {},
   "outputs": [],
   "source": [
    "results = []\n",
    "accel_idx = 1\n",
    "for i in range(image_frame_step, len(df), image_frame_step):\n",
    "    row = df.iloc[i,:]\n",
    "    time = row.time\n",
    "    x, y, z = row.POS_X, row.POS_Y, row.POS_Z\n",
    "    print(f'prev {x,y,z}')\n",
    "    time_taken = 0\n",
    "    while accel.iloc[accel_idx,0] < time:\n",
    "        accel_row = accel.iloc[accel_idx,:]\n",
    "        x += accel_row.prev_lin_vel_x * accel_row.timestep + 1/2 * accel_row.prev_imu_acc_x * accel_row.timestep ** 2 \n",
    "        y += accel_row.prev_lin_vel_y * accel_row.timestep + 1/2 * accel_row.prev_imu_acc_y * accel_row.timestep ** 2 \n",
    "        z += accel_row.prev_lin_vel_z * accel_row.timestep + 1/2 * accel_row.prev_imu_acc_z * accel_row.timestep ** 2\n",
    "        accel_idx += 1\n",
    "        time_taken += accel_row.timestep\n",
    "    print(f'imu added {x,y,z}, time taken {time_taken}')\n",
    "    results.append([x, y, z])\n",
    "\n",
    "imu_trans = pd.DataFrame(results, columns=[\"imu_POS_X\", \"imu_POS_Y\",\"imu_POS_Z\"])"
   ]
  },
  {
   "cell_type": "code",
   "execution_count": null,
   "metadata": {},
   "outputs": [],
   "source": [
    "imu_trans.plot()\n",
    "df[[\"POS_X\", 'POS_Y', 'POS_Z']].plot()"
   ]
  },
  {
   "cell_type": "code",
   "execution_count": null,
   "metadata": {},
   "outputs": [],
   "source": [
    "accel['prev_ang_vel_x'] = accel['ang_vel_x'].shift(1) \n",
    "accel['prev_ang_vel_y'] = accel['ang_vel_y'].shift(1)\n",
    "accel['prev_ang_vel_z'] = accel['ang_vel_z'].shift(1)"
   ]
  },
  {
   "cell_type": "code",
   "execution_count": null,
   "metadata": {},
   "outputs": [],
   "source": [
    "from ahrs.filters import AngularRate\n",
    "import rowan\n",
    "results = []\n",
    "accel_idx = 1\n",
    "for i in range(image_frame_step, len(df), image_frame_step):\n",
    "    row = df.iloc[i,:]\n",
    "    time = row.time\n",
    "    qw = row.Q_W\n",
    "    qx = row.Q_X\n",
    "    qy = row.Q_Y\n",
    "    qz = row.Q_Z\n",
    "    q_prev = np.array([qw, qx, qy, qz])\n",
    "    print(f'prev {q_prev}')\n",
    "    cur_q = q_prev\n",
    "    angular_rate = AngularRate()\n",
    "    while accel.iloc[accel_idx,0] < time:\n",
    "        accel_row = accel.iloc[accel_idx,:]\n",
    "        cur_q = angular_rate.update(cur_q, \n",
    "                                    np.hstack([accel_row[\"prev_ang_vel_x\"],accel_row[\"prev_ang_vel_y\"], accel_row[\"prev_ang_vel_z\"]]),\n",
    "                                    'closed', \n",
    "                                    1,\n",
    "                                    accel_row['timestep'])\n",
    "        cur_q = rowan.normalize(cur_q)\n",
    "        accel_idx += 1\n",
    "        time_taken += accel_row.timestep\n",
    "    print(f'imu added {cur_q}, time taken {time_taken}')\n",
    "    results.append(cur_q)\n",
    "\n",
    "imu_q_ahrs = pd.DataFrame(results, columns=[\"imu_Q_W\", \"imu_Q_X\", \"imu_Q_Y\", \"imu_Q_Z\"])"
   ]
  },
  {
   "cell_type": "code",
   "execution_count": null,
   "metadata": {},
   "outputs": [],
   "source": [
    "df[['Q_W' , 'Q_X', 'Q_Y', 'Q_Z']].plot()\n",
    "imu_q_ahrs[[\"imu_Q_W\", \"imu_Q_X\", \"imu_Q_Y\", \"imu_Q_Z\"]].plot()"
   ]
  },
  {
   "cell_type": "code",
   "execution_count": null,
   "metadata": {},
   "outputs": [],
   "source": []
  }
 ],
 "metadata": {
  "kernelspec": {
   "display_name": "Python 3.8.8 ('base')",
   "language": "python",
   "name": "python3"
  },
  "language_info": {
   "codemirror_mode": {
    "name": "ipython",
    "version": 3
   },
   "file_extension": ".py",
   "mimetype": "text/x-python",
   "name": "python",
   "nbconvert_exporter": "python",
   "pygments_lexer": "ipython3",
   "version": "3.8.8"
  },
  "orig_nbformat": 4,
  "vscode": {
   "interpreter": {
    "hash": "635c79679d6299709eb96f66ba2e6ffa844001ed5388d3b311d892fec26449e0"
   }
  }
 },
 "nbformat": 4,
 "nbformat_minor": 2
}
