{
 "cells": [
  {
   "cell_type": "code",
   "execution_count": 2,
   "metadata": {},
   "outputs": [],
   "source": [
    "import pandas as pd"
   ]
  },
  {
   "cell_type": "code",
   "execution_count": 5,
   "metadata": {},
   "outputs": [],
   "source": [
    "df = pd.read_csv('imu_data_school.csv', header=None)"
   ]
  },
  {
   "cell_type": "code",
   "execution_count": 7,
   "metadata": {},
   "outputs": [
    {
     "data": {
      "text/html": [
       "<div>\n",
       "<style scoped>\n",
       "    .dataframe tbody tr th:only-of-type {\n",
       "        vertical-align: middle;\n",
       "    }\n",
       "\n",
       "    .dataframe tbody tr th {\n",
       "        vertical-align: top;\n",
       "    }\n",
       "\n",
       "    .dataframe thead th {\n",
       "        text-align: right;\n",
       "    }\n",
       "</style>\n",
       "<table border=\"1\" class=\"dataframe\">\n",
       "  <thead>\n",
       "    <tr style=\"text-align: right;\">\n",
       "      <th></th>\n",
       "      <th>acc_t</th>\n",
       "      <th>acc_x</th>\n",
       "      <th>acc_y</th>\n",
       "      <th>acc_z</th>\n",
       "      <th>ang_vel_t</th>\n",
       "      <th>ang_vel_x</th>\n",
       "      <th>ang_vel_y</th>\n",
       "      <th>ang_vel_z</th>\n",
       "      <th>orient_t</th>\n",
       "      <th>azimuth</th>\n",
       "      <th>pitch</th>\n",
       "      <th>roll</th>\n",
       "    </tr>\n",
       "  </thead>\n",
       "  <tbody>\n",
       "    <tr>\n",
       "      <th>0</th>\n",
       "      <td>0.00</td>\n",
       "      <td>10.0670</td>\n",
       "      <td>0.27213</td>\n",
       "      <td>1.5330</td>\n",
       "      <td>0.001</td>\n",
       "      <td>0.32636</td>\n",
       "      <td>-0.20497</td>\n",
       "      <td>-0.24552</td>\n",
       "      <td>0.008</td>\n",
       "      <td>-91.883</td>\n",
       "      <td>-2.1831</td>\n",
       "      <td>-81.290</td>\n",
       "    </tr>\n",
       "    <tr>\n",
       "      <th>1</th>\n",
       "      <td>0.01</td>\n",
       "      <td>9.8467</td>\n",
       "      <td>0.28755</td>\n",
       "      <td>1.3484</td>\n",
       "      <td>0.011</td>\n",
       "      <td>0.28810</td>\n",
       "      <td>-0.20820</td>\n",
       "      <td>-0.27525</td>\n",
       "      <td>0.018</td>\n",
       "      <td>-92.021</td>\n",
       "      <td>-2.3643</td>\n",
       "      <td>-81.419</td>\n",
       "    </tr>\n",
       "    <tr>\n",
       "      <th>2</th>\n",
       "      <td>0.02</td>\n",
       "      <td>9.6081</td>\n",
       "      <td>0.29519</td>\n",
       "      <td>1.3316</td>\n",
       "      <td>0.021</td>\n",
       "      <td>0.27210</td>\n",
       "      <td>-0.22649</td>\n",
       "      <td>-0.26037</td>\n",
       "      <td>0.028</td>\n",
       "      <td>-92.152</td>\n",
       "      <td>-2.5325</td>\n",
       "      <td>-81.557</td>\n",
       "    </tr>\n",
       "    <tr>\n",
       "      <th>3</th>\n",
       "      <td>0.03</td>\n",
       "      <td>9.3747</td>\n",
       "      <td>0.41449</td>\n",
       "      <td>1.5584</td>\n",
       "      <td>0.031</td>\n",
       "      <td>0.27386</td>\n",
       "      <td>-0.21866</td>\n",
       "      <td>-0.20729</td>\n",
       "      <td>0.038</td>\n",
       "      <td>-92.289</td>\n",
       "      <td>-2.6677</td>\n",
       "      <td>-81.683</td>\n",
       "    </tr>\n",
       "    <tr>\n",
       "      <th>4</th>\n",
       "      <td>0.04</td>\n",
       "      <td>9.2518</td>\n",
       "      <td>0.60774</td>\n",
       "      <td>1.5933</td>\n",
       "      <td>0.041</td>\n",
       "      <td>0.27299</td>\n",
       "      <td>-0.10833</td>\n",
       "      <td>-0.11704</td>\n",
       "      <td>0.048</td>\n",
       "      <td>-92.432</td>\n",
       "      <td>-2.7501</td>\n",
       "      <td>-81.744</td>\n",
       "    </tr>\n",
       "  </tbody>\n",
       "</table>\n",
       "</div>"
      ],
      "text/plain": [
       "   acc_t    acc_x    acc_y   acc_z  ang_vel_t  ang_vel_x  ang_vel_y  \\\n",
       "0   0.00  10.0670  0.27213  1.5330      0.001    0.32636   -0.20497   \n",
       "1   0.01   9.8467  0.28755  1.3484      0.011    0.28810   -0.20820   \n",
       "2   0.02   9.6081  0.29519  1.3316      0.021    0.27210   -0.22649   \n",
       "3   0.03   9.3747  0.41449  1.5584      0.031    0.27386   -0.21866   \n",
       "4   0.04   9.2518  0.60774  1.5933      0.041    0.27299   -0.10833   \n",
       "\n",
       "   ang_vel_z  orient_t  azimuth   pitch    roll  \n",
       "0   -0.24552     0.008  -91.883 -2.1831 -81.290  \n",
       "1   -0.27525     0.018  -92.021 -2.3643 -81.419  \n",
       "2   -0.26037     0.028  -92.152 -2.5325 -81.557  \n",
       "3   -0.20729     0.038  -92.289 -2.6677 -81.683  \n",
       "4   -0.11704     0.048  -92.432 -2.7501 -81.744  "
      ]
     },
     "execution_count": 7,
     "metadata": {},
     "output_type": "execute_result"
    }
   ],
   "source": [
    "df.columns = ['acc_t', 'acc_x', 'acc_y', 'acc_z', 'ang_vel_t', 'ang_vel_x', 'ang_vel_y', 'ang_vel_z', 'orient_t', 'azimuth', 'pitch', 'roll']\n",
    "df.head()"
   ]
  },
  {
   "cell_type": "code",
   "execution_count": null,
   "metadata": {},
   "outputs": [],
   "source": []
  }
 ],
 "metadata": {
  "kernelspec": {
   "display_name": "Python 3.8.8 ('base')",
   "language": "python",
   "name": "python3"
  },
  "language_info": {
   "codemirror_mode": {
    "name": "ipython",
    "version": 3
   },
   "file_extension": ".py",
   "mimetype": "text/x-python",
   "name": "python",
   "nbconvert_exporter": "python",
   "pygments_lexer": "ipython3",
   "version": "3.8.8"
  },
  "orig_nbformat": 4,
  "vscode": {
   "interpreter": {
    "hash": "635c79679d6299709eb96f66ba2e6ffa844001ed5388d3b311d892fec26449e0"
   }
  }
 },
 "nbformat": 4,
 "nbformat_minor": 2
}
