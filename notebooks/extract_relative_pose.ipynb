{
 "cells": [
  {
   "cell_type": "markdown",
   "metadata": {},
   "source": [
    "# Extract Relative Pose\n",
    "This script is used to convert ground truth scripts with absolute poses to relative poses for RPR"
   ]
  },
  {
   "cell_type": "code",
   "execution_count": 1,
   "metadata": {},
   "outputs": [],
   "source": [
    "import numpy as np\n",
    "import os\n",
    "from scipy.spatial.transform import Rotation as R"
   ]
  },
  {
   "cell_type": "code",
   "execution_count": 16,
   "metadata": {},
   "outputs": [],
   "source": [
    "data_root = 'D:/Imperial/FYP/captured_data/airsim_drone_mode/building_v4'\n",
    "split = \"train\"\n",
    "seq_dict = {'val': 'seq-01', 'train': 'seq-02'}\n",
    "poses, ims = [], []\n",
    "with open(os.path.join(data_root, seq_dict[split], 'airsim_rec.txt'), 'r') as f:\n",
    "\tfor line in f.readlines()[1::]:\n",
    "\t\tcur = line.split('\\t')\n",
    "\t\txyz = np.array([float(v) for v in cur[2:5]], dtype=np.float32)\n",
    "\t\twxyz = np.array([float(v) for v in cur[5:9]], dtype=np.float32)\n",
    "\t\tposes.append((xyz,wxyz))\n",
    "\t\tims.append(f\"/{seq_dict[split]}/images/\" + cur[-1].strip('\\n'))"
   ]
  },
  {
   "cell_type": "markdown",
   "metadata": {},
   "source": [
    "## Calculate Relative Poses"
   ]
  },
  {
   "cell_type": "code",
   "execution_count": 17,
   "metadata": {},
   "outputs": [],
   "source": [
    "skip = 5\n",
    "relative_poses = []\n",
    "\n",
    "def obtain_relative_pose(absolute_pose_c1, absolute_pose_c2):\n",
    "\txyz1, wxyz1 = absolute_pose_c1[:3], absolute_pose_c1[3:]\n",
    "\txyz2, wxyz2 = absolute_pose_c2[:3], absolute_pose_c2[3:]\n",
    "\n",
    "\t# Airsim records quartenion as wxyz but scipy takes in xyzw format\n",
    "\trot_mat1 = R.from_quat(np.hstack([wxyz1[1:], wxyz1[0]])).as_matrix()\n",
    "\trot_mat2 = R.from_quat(np.hstack([wxyz2[1:], wxyz2[0]])).as_matrix()\n",
    "\n",
    "\t# Obtain Relative poses\n",
    "\trelative_t = xyz2 - xyz1 \n",
    "\trelative_q = R.from_matrix(np.matmul(np.transpose(rot_mat1), rot_mat2)).as_quat()\n",
    "\trelative_q = np.hstack([relative_q[3:], relative_q[:3]]) # Convert to wxyz format\n",
    "\n",
    "\treturn relative_t, relative_q\n",
    "\n",
    "for i in range(len(poses) - skip):\n",
    "\trelative_t, relative_q = obtain_relative_pose(np.hstack(poses[i]), np.hstack(poses[i+ skip]))\t\n",
    "\trelative_poses.append(np.hstack([relative_t, relative_q]))"
   ]
  },
  {
   "cell_type": "markdown",
   "metadata": {},
   "source": [
    "## Check Distribution"
   ]
  },
  {
   "cell_type": "code",
   "execution_count": 18,
   "metadata": {},
   "outputs": [
    {
     "data": {
      "image/png": "[encoded data removed]",
      "text/plain": [
       "<Figure size 432x288 with 1 Axes>"
      ]
     },
     "metadata": {
      "needs_background": "light"
     },
     "output_type": "display_data"
    }
   ],
   "source": [
    "import matplotlib.pyplot as plt\n",
    "\n",
    "plt.hist(np.vstack(relative_poses)[:,0], label=\"X\", alpha=0.5)\n",
    "plt.hist(np.vstack(relative_poses)[:,1], label=\"Y\", alpha=0.5)\n",
    "plt.hist(np.vstack(relative_poses)[:,2], label=\"Z\", alpha=0.5)\n",
    "plt.legend()\n",
    "plt.grid()"
   ]
  },
  {
   "cell_type": "code",
   "execution_count": 19,
   "metadata": {},
   "outputs": [
    {
     "data": {
      "image/png": "[encoded data removed]",
      "text/plain": [
       "<Figure size 432x288 with 1 Axes>"
      ]
     },
     "metadata": {
      "needs_background": "light"
     },
     "output_type": "display_data"
    }
   ],
   "source": [
    "plt.hist(np.vstack(relative_poses)[:,3], label=\"Q_W\", alpha=0.5)\n",
    "plt.hist(np.vstack(relative_poses)[:,4], label=\"Q_X\", alpha=0.5)\n",
    "plt.hist(np.vstack(relative_poses)[:,5], label=\"Q_Y\", alpha=0.5)\n",
    "plt.hist(np.vstack(relative_poses)[:,6], label=\"Q_Z\", alpha=0.5)\n",
    "plt.legend()\n",
    "plt.grid()"
   ]
  },
  {
   "cell_type": "markdown",
   "metadata": {},
   "source": [
    "## Write to text file"
   ]
  },
  {
   "cell_type": "code",
   "execution_count": 15,
   "metadata": {},
   "outputs": [],
   "source": [
    "with open(os.path.join('.','assets','data', f'{split}.txt'), 'w') as f:\n",
    "\tfor i in range(0, len(relative_poses)-skip):\n",
    "\t\tf.writelines(f\"{ims[i]} {ims[i+skip]} {relative_poses[i][0]:.6f} {relative_poses[i][1]:.6f} {relative_poses[i][2]:.6f} {relative_poses[i][3]:.6f} {relative_poses[i][4]:.6f} {relative_poses[i][5]:.6f} {relative_poses[i][6]:.6f}\\n\")"
   ]
  },
  {
   "cell_type": "markdown",
   "metadata": {},
   "source": [
    "## Check Reverse Calculation to obtain absolute pose"
   ]
  },
  {
   "cell_type": "code",
   "execution_count": null,
   "metadata": {},
   "outputs": [],
   "source": [
    "def obtain_absolute_pose(absolute_pose_c2, relative_pose):\n",
    "\txyz2, wpqr2 = absolute_pose_c2[:3], absolute_pose_c2[3:]\n",
    "\txyz_rel, wpqr_rel = relative_pose[:3], relative_pose[3:]\n",
    "\trot_mat2 = R.from_quat(np.hstack([wpqr2[1:], wpqr2[0]])).as_matrix()\n",
    "\trot_mat_rel = R.from_quat(np.hstack([wpqr_rel[1:], wpqr_rel[0]])).as_matrix()\n",
    "\tt1 = xyz2 - xyz_rel \n",
    "\tr1 = R.from_matrix(np.matmul(rot_mat2,np.linalg.inv(rot_mat_rel))).as_quat()\n",
    "\tr1 = np.hstack([r1[3:], r1[:3]])\n",
    "\treturn t1, r1\n",
    "\n",
    "pos = 0\n",
    "print(ims[pos], ims[pos + skip])\n",
    "print(f\"relative poses {relative_poses[pos]}\")\n",
    "print(f\"absolute pose for img 1 {poses[pos]}\\nabsolute pose for img2 {poses[pos+skip]}\")\n",
    "\n",
    "print(obtain_absolute_pose(np.hstack(poses[pos+skip]), relative_poses[pos]))\n"
   ]
  }
 ],
 "metadata": {
  "interpreter": {
   "hash": "635c79679d6299709eb96f66ba2e6ffa844001ed5388d3b311d892fec26449e0"
  },
  "kernelspec": {
   "display_name": "Python 3.8.8 ('base')",
   "language": "python",
   "name": "python3"
  },
  "language_info": {
   "codemirror_mode": {
    "name": "ipython",
    "version": 3
   },
   "file_extension": ".py",
   "mimetype": "text/x-python",
   "name": "python",
   "nbconvert_exporter": "python",
   "pygments_lexer": "ipython3",
   "version": "3.8.8"
  },
  "orig_nbformat": 4
 },
 "nbformat": 4,
 "nbformat_minor": 2
}
