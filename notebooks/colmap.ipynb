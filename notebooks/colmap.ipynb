{
 "cells": [
  {
   "cell_type": "code",
   "execution_count": null,
   "metadata": {},
   "outputs": [],
   "source": [
    "import numpy as np\n",
    "import pandas as pd\n",
    "from scipy.spatial.transform import Rotation as R\n",
    "import math\n",
    "import numpy as np\n",
    "import matplotlib.pyplot as plt\n",
    "%matplotlib ipympl"
   ]
  },
  {
   "cell_type": "code",
   "execution_count": null,
   "metadata": {},
   "outputs": [],
   "source": [
    "# image_file = 'C:/Users/tansi/Documents/Imperial_College_London/Year3/FYP_Project/building_train_2_low/sparse/0/images.txt'\n",
    "# image_file = 'C:/Users/tansi/Documents/Imperial_College_London/Year3/FYP_Project/building_v4_colmap_train/sparse/0/images.txt'\n",
    "image_file = 'C:/Users/tansi/Documents/Imperial_College_London/Year3/FYP_Project/aligned/images.txt'\n",
    "true_gt_folder = 'D:/Imperial/FYP/captured_data/airsim_drone_mode/building_train_2/'"
   ]
  },
  {
   "cell_type": "code",
   "execution_count": null,
   "metadata": {},
   "outputs": [],
   "source": [
    "camera_poses = pd.DataFrame()\n",
    "\n",
    "with open(image_file, \"r\") as f:\n",
    "    for line in f.readlines()[4::2]:\n",
    "        values = line.strip('\\n').split(\" \")\n",
    "        name = values[-1]\n",
    "        q_w, q_x, q_y, q_z = values[1:5]\n",
    "        r = R.from_quat(np.hstack([float(q_x), float(q_y), float(q_z), float(q_w)]))\n",
    "        inv_r = r.inv()\n",
    "        t_x, t_y, t_z = values[5:8]\n",
    "        t_x, t_y, t_z = float(t_x), float(t_y), float(t_z)\n",
    "        # x, y, z = np.dot(-(rotmat.T), np.hstack([t_x, t_y, t_z]))\n",
    "        x, y, z = -inv_r.apply(np.hstack([t_x, t_y, t_z]))\n",
    "        q_x, q_y, q_z, q_w = inv_r.as_quat()\n",
    "        camera_poses = camera_poses.append({'ImageFile': name, \n",
    "                                            'POS_X': x,\n",
    "                                            'POS_Y': y,\n",
    "                                            'POS_Z': z, \n",
    "                                            'Q_W': q_w,\n",
    "                                            'Q_X': q_x,\n",
    "                                            'Q_Y': q_y,\n",
    "                                            'Q_Z': q_z}, ignore_index = True)\n",
    "# camera_poses = pd.DataFrame()\n",
    "\n",
    "# with open(image_file, \"r\") as f:\n",
    "#     for line in f.readlines()[4::2]:\n",
    "#         values = line.strip('\\n').split(\" \")\n",
    "#         name = values[-1]\n",
    "#         q_w, q_x, q_y, q_z = values[1:5]\n",
    "#         r = R.from_quat(np.hstack([float(q_y), float(q_x), -float(q_z), float(q_w)]))\n",
    "#         inv_r = r.inv()\n",
    "#         t_x, t_y, t_z = values[5:8]\n",
    "#         t_x, t_y, t_z = float(t), float(t_x), -float(t_z)\n",
    "#         # x, y, z = np.dot(-(rotmat.T), np.hstack([t_x, t_y, t_z]))\n",
    "#         x, y, z = -inv_r.apply(np.hstack([t_x, t_y, t_z]))\n",
    "#         q_x, q_y, q_z, q_w = inv_r.as_quat()\n",
    "#         camera_poses = camera_poses.append({'ImageFile': name, \n",
    "#                                             'POS_X': x,\n",
    "#                                             'POS_Y': y,\n",
    "#                                             'POS_Z': z, \n",
    "#                                             'Q_W': q_w,\n",
    "#                                             'Q_X': q_x,\n",
    "#                                             'Q_Y': q_y,\n",
    "#                                             'Q_Z': q_z}, ignore_index = True)"
   ]
  },
  {
   "cell_type": "code",
   "execution_count": null,
   "metadata": {},
   "outputs": [],
   "source": [
    "train_data = pd.read_csv(f'{true_gt_folder}airsim_rec.txt', sep=\"\\t\")\n",
    "train_data = train_data[train_data.ImageFile.isin(camera_poses.ImageFile)]\n",
    "train_data.reset_index(drop=True, inplace=True)"
   ]
  },
  {
   "cell_type": "code",
   "execution_count": null,
   "metadata": {},
   "outputs": [],
   "source": [
    "camera_poses[\"idx\"] = camera_poses.apply(lambda row: int(row[\"ImageFile\"].split(\".\")[0]), axis = 1)\n",
    "camera_poses.sort_values(by=\"idx\", inplace= True)\n",
    "camera_poses.reset_index(drop=True, inplace=True)"
   ]
  },
  {
   "cell_type": "code",
   "execution_count": null,
   "metadata": {},
   "outputs": [],
   "source": [
    "new_y = list(train_data[\"POS_X\"])\n",
    "new_x = list(train_data[\"POS_Y\"])\n",
    "new_z = list(- train_data[\"POS_Z\"])\n",
    "train_data[\"POS_X\"] = new_x\n",
    "train_data[\"POS_Y\"] = new_y\n",
    "train_data[\"POS_Z\"] = new_z "
   ]
  },
  {
   "cell_type": "code",
   "execution_count": null,
   "metadata": {},
   "outputs": [],
   "source": [
    "plt.figure()\n",
    "ax = plt.axes(projection= '3d')\n",
    "start = 0\n",
    "end = -1\n",
    "\n",
    "ax.plot3D(camera_poses[\"POS_X\"][start:end], camera_poses[\"POS_Y\"][start:end], camera_poses[\"POS_Z\"][start:end], label = \"COLMAP Train Poses\", color = 'green')\n",
    "ax.plot3D(train_data[\"POS_X\"][start:end], train_data[\"POS_Y\"][start:end], train_data[\"POS_Z\"][start:end], label = \"AirSim Ground Truth Train Poses\", color = 'blue')\n",
    "# ax.set_zlim([-2, -5])\n",
    "ax.set_xlabel(\"x (m)\")\n",
    "ax.set_ylabel(\"y (m)\")\n",
    "ax.set_zlabel(\"z (m)\")\n",
    "ax.set_title(\"AirSim Training Poses and COLMAP Poses\")\n",
    "ax.legend()\n",
    "plt.show()"
   ]
  },
  {
   "cell_type": "code",
   "execution_count": null,
   "metadata": {},
   "outputs": [],
   "source": [
    "adjusted_colmap_points = pd.DataFrame()\n",
    "adjusted_colmap_points[\"POS_X\"] = camera_poses[\"y\"]\n",
    "adjusted_colmap_points[\"POS_Y\"] = camera_poses[\"x\"]\n",
    "adjusted_colmap_points[\"POS_Z\"] = -camera_poses[\"z\"]\n",
    "adjusted_colmap_ori = pd.DataFrame()\n",
    "adjusted_colmap_ori[\"Q_W\"] = camera_poses[\"q_w\"]\n",
    "adjusted_colmap_ori[\"Q_X\"] = camera_poses[\"q_x\"]\n",
    "adjusted_colmap_ori[\"Q_Y\"] = camera_poses[\"q_y\"]\n",
    "adjusted_colmap_ori[\"Q_Z\"] = camera_poses[\"q_z\"]\n",
    "\n",
    "err =[]\n",
    "for i in [0, 20, 40, 60]:\n",
    "    err.append(np.linalg.norm(adjusted_colmap_points[[\"POS_X\", \"POS_Y\", \"POS_Z\"]].iloc[i,:] - train_data[[\"POS_X\", \"POS_Y\", \"POS_Z\"]].iloc[i,:]))\n",
    "print(f'Translation error {np.median(err)} (median) m, {np.mean(err)} (mean) m')\n",
    "\n",
    "q_err =[]\n",
    "for i in range(len(adjusted_colmap_ori)):\n",
    "    enu2ned = R.from_quat(np.array([0, 0, math.sqrt(2)/2, math.sqrt(2)/2]))\n",
    "    ned_ori = enu2ned * R.from_quat(adjusted_colmap_ori[[\"Q_X\", \"Q_Y\", \"Q_Z\", \"Q_W\"]].iloc[i,:])\n",
    "    q_x, q_y, q_z, q_w = ned_ori.as_quat()\n",
    "    q_err.append(cal_quat_angle_error(np.array([q_w, q_x, q_y, q_z]), train_data[[\"Q_W\", \"Q_X\", \"Q_Y\", \"Q_Z\"]].iloc[i,:]).item())\n",
    "print(f'Orientation error {np.median(q_err)} (median) deg, {np.mean(q_err)} (mean) deg')"
   ]
  },
  {
   "cell_type": "code",
   "execution_count": null,
   "metadata": {},
   "outputs": [],
   "source": [
    "def rigid_transform_3D(A, B):\n",
    "    assert A.shape == B.shape\n",
    "\n",
    "    num_rows, num_cols = A.shape\n",
    "    if num_rows != 3:\n",
    "        raise Exception(f\"matrix A is not 3xN, it is {num_rows}x{num_cols}\")\n",
    "\n",
    "    num_rows, num_cols = B.shape\n",
    "    if num_rows != 3:\n",
    "        raise Exception(f\"matrix B is not 3xN, it is {num_rows}x{num_cols}\")\n",
    "\n",
    "    # find mean column wise\n",
    "    centroid_A = np.mean(A, axis=1)\n",
    "    centroid_B = np.mean(B, axis=1)\n",
    "\n",
    "    # ensure centroids are 3x1\n",
    "    centroid_A = centroid_A.reshape(-1, 1)\n",
    "    centroid_B = centroid_B.reshape(-1, 1)\n",
    "\n",
    "    # subtract mean\n",
    "    Am = A - centroid_A\n",
    "    Bm = B - centroid_B\n",
    "\n",
    "    H = Am @ np.transpose(Bm)\n",
    "\n",
    "    # sanity check\n",
    "    #if linalg.matrix_rank(H) < 3:\n",
    "    #    raise ValueError(\"rank of H = {}, expecting 3\".format(linalg.matrix_rank(H)))\n",
    "\n",
    "    # find rotation\n",
    "    U, S, Vt = np.linalg.svd(H)\n",
    "    R = Vt.T @ U.T\n",
    "\n",
    "    # special reflection case\n",
    "    if np.linalg.det(R) < 0:\n",
    "        print(\"det(R) < R, reflection detected!, correcting for it ...\")\n",
    "        Vt[2,:] *= -1\n",
    "        R = Vt.T @ U.T\n",
    "\n",
    "    t = -R @ centroid_A + centroid_B\n",
    "\n",
    "    return R, t"
   ]
  },
  {
   "cell_type": "code",
   "execution_count": null,
   "metadata": {},
   "outputs": [],
   "source": [
    "A = '0.png'\n",
    "B = '100.png'\n",
    "C = '10000.png'\n",
    "D = '17000.png'"
   ]
  },
  {
   "cell_type": "code",
   "execution_count": null,
   "metadata": {},
   "outputs": [],
   "source": [
    "a_pose = train_data[train_data.ImageFile == A][['POS_X', 'POS_Y', 'POS_Z']].squeeze()\n",
    "b_pose = train_data[train_data.ImageFile == B][['POS_X', 'POS_Y', 'POS_Z']].squeeze()\n",
    "c_pose = train_data[train_data.ImageFile == C][['POS_X', 'POS_Y', 'POS_Z']].squeeze()\n",
    "d_pose = train_data[train_data.ImageFile == D][['POS_X', 'POS_Y', 'POS_Z']].squeeze()\n",
    "print(a_pose, b_pose, c_pose, d_pose)"
   ]
  },
  {
   "cell_type": "code",
   "execution_count": null,
   "metadata": {},
   "outputs": [],
   "source": [
    "px = np.sqrt(np.sum((a_pose - c_pose)**2))\n",
    "a = camera_poses[camera_poses.ImageFile == A][['POS_X','POS_Y','POS_Z']].squeeze()\n",
    "c = camera_poses[camera_poses.ImageFile == C][['POS_X','POS_Y','POS_Z']].squeeze()\n",
    "unit_measure = np.sqrt(np.sum((a - c)**2))\n",
    "print(f'colmap dist {unit_measure}, sim dist {px}')"
   ]
  },
  {
   "cell_type": "code",
   "execution_count": null,
   "metadata": {},
   "outputs": [],
   "source": [
    "colmap_crs = camera_poses[camera_poses.ImageFile.isin([A, B, C, D])][['POS_X','POS_Y','POS_Z']].values.T\n",
    "cadatastral_crs = train_data[train_data.ImageFile.isin([A, B, C, D])][['POS_X', 'POS_Y', 'POS_Z']].values.T\n",
    "colmap_crs = colmap_crs / unit_measure * px\n",
    "# RA + t = B\n",
    "trans_R, trans_t = rigid_transform_3D(colmap_crs, cadatastral_crs)\n",
    "print(trans_R, trans_t)"
   ]
  },
  {
   "cell_type": "code",
   "execution_count": null,
   "metadata": {},
   "outputs": [],
   "source": [
    "rotations = camera_poses[['Q_X', 'Q_Y','Q_Z', 'Q_W']].values\n",
    "transform_rot = R.from_matrix(trans_R)\n",
    "adjusted_colmap_ori = []\n",
    "for rot in rotations:\n",
    "    colmap_rot = R.from_quat(rot)\n",
    "    trans_quat = (transform_rot * colmap_rot).as_quat()\n",
    "    if trans_quat[-1] < 0:\n",
    "        trans_quat = -trans_quat\n",
    "    adjusted_colmap_ori.append(trans_quat)\n",
    "adjusted_colmap_ori = pd.DataFrame(adjusted_colmap_ori, columns=[\"Q_X\",\"Q_Y\",\"Q_Z\", \"Q_W\"])"
   ]
  },
  {
   "cell_type": "code",
   "execution_count": null,
   "metadata": {},
   "outputs": [],
   "source": [
    "plt.figure()\n",
    "plt.plot(train_data[\"Q_W\"])\n",
    "plt.plot(adjusted_colmap_ori[\"Q_W\"])\n",
    "plt.show()"
   ]
  },
  {
   "cell_type": "code",
   "execution_count": null,
   "metadata": {},
   "outputs": [],
   "source": [
    "train_data[['Q_X', 'Q_Y','Q_Z', 'Q_W']].plot()\n",
    "adjusted_colmap_ori.plot()"
   ]
  },
  {
   "cell_type": "code",
   "execution_count": null,
   "metadata": {},
   "outputs": [],
   "source": [
    "points = camera_poses[['POS_X', 'POS_Y','POS_Z']].values\n",
    "adjusted_colmap_points = (np.matmul(trans_R, points.T) + trans_t).T\n",
    "adjusted_colmap_points = pd.DataFrame(adjusted_colmap_points, columns=[\"POS_X\",\"POS_Y\",\"POS_Z\"])"
   ]
  },
  {
   "cell_type": "code",
   "execution_count": null,
   "metadata": {},
   "outputs": [],
   "source": [
    "xyz_gt = train_data.iloc[0,:][['POS_X','POS_Y','POS_Z']].values\n",
    "xyz_colmap = camera_poses.iloc[0,:][['POS_X','POS_Y','POS_Z']].values\n",
    "xyz_colmap = xyz_colmap / unit_measure * px\n",
    "xyz_colmap = (np.matmul(trans_R, xyz_colmap.T) + trans_t.T)\n",
    "\n",
    "print(xyz_gt)\n",
    "print(xyz_colmap)"
   ]
  },
  {
   "cell_type": "code",
   "execution_count": null,
   "metadata": {},
   "outputs": [],
   "source": [
    "plt.figure()\n",
    "plt.plot(train_data[\"POS_X\"], train_data[\"POS_Z\"], marker=\".\")\n",
    "plt.plot(adjusted_colmap_points[\"POS_X\"], adjusted_colmap_points[\"POS_Z\"], marker=\".\")\n",
    "plt.show()"
   ]
  },
  {
   "cell_type": "code",
   "execution_count": null,
   "metadata": {},
   "outputs": [],
   "source": [
    "plt.figure()\n",
    "ax = plt.axes(projection= '3d')\n",
    "start = 0\n",
    "end = 200\n",
    "\n",
    "ax.plot3D(adjusted_colmap_points[\"POS_X\"][start:end], adjusted_colmap_points[\"POS_Y\"][start:end], adjusted_colmap_points[\"POS_Z\"][start:end], label = \"COLMAP Train Poses\", color = 'green')\n",
    "ax.plot3D(train_data[\"POS_X\"][start:end], train_data[\"POS_Y\"][start:end], train_data[\"POS_Z\"][start:end], label = \"AirSim Ground Truth Train Poses\", color = 'blue')\n",
    "# ax.set_zlim([-2, -5])\n",
    "ax.set_xlabel(\"x (m)\")\n",
    "ax.set_ylabel(\"y (m)\")\n",
    "ax.set_zlabel(\"z (m)\")\n",
    "ax.set_title(\"AirSim Training Poses and COLMAP Poses\")\n",
    "ax.legend()\n",
    "plt.show()"
   ]
  },
  {
   "cell_type": "code",
   "execution_count": null,
   "metadata": {},
   "outputs": [],
   "source": [
    "def cal_quat_angle_error(label, pred):\n",
    "    if len(label.shape) == 1:\n",
    "        label = np.expand_dims(label, axis=0)\n",
    "    if len(pred.shape) == 1:\n",
    "        pred = np.expand_dims(pred, axis=0)\n",
    "    q1 = pred / np.linalg.norm(pred, axis=1, keepdims=True)\n",
    "    q2 = label / np.linalg.norm(label, axis=1, keepdims=True)\n",
    "    d = np.abs(np.sum(np.multiply(q1,q2), axis=1, keepdims=True)) # Here we have abs()\n",
    "\n",
    "    d = np.clip(d, a_min=-1, a_max=1)\n",
    "    error = 2 * np.degrees(np.arccos(d))\n",
    "    return error"
   ]
  },
  {
   "cell_type": "code",
   "execution_count": null,
   "metadata": {},
   "outputs": [],
   "source": [
    "err =[]\n",
    "for i in range(len(adjusted_colmap_ori)):\n",
    "    err.append(np.linalg.norm(adjusted_colmap_points[[\"POS_X\", \"POS_Y\", \"POS_Z\"]].iloc[i,:] - train_data[[\"POS_X\", \"POS_Y\", \"POS_Z\"]].iloc[i,:]))\n",
    "print(f'Translation error {np.median(err)} (median) m, {np.mean(err)} (mean) m')\n",
    "\n",
    "q_err =[]\n",
    "for i in range(len(adjusted_colmap_ori)):\n",
    "    q_err.append(cal_quat_angle_error(adjusted_colmap_ori[[\"Q_W\", \"Q_X\", \"Q_Y\", \"Q_Z\"]].iloc[i,:], train_data[[\"Q_W\", \"Q_X\", \"Q_Y\", \"Q_Z\"]].iloc[i,:]).item())\n",
    "print(f'Orientation error {np.median(q_err)} (median) deg, {np.mean(q_err)} (mean) deg')"
   ]
  },
  {
   "cell_type": "code",
   "execution_count": null,
   "metadata": {},
   "outputs": [],
   "source": [
    "q_err =[]\n",
    "enus = []\n",
    "ned2enu = R.from_quat(np.array([-math.sqrt(2)/2, -math.sqrt(2)/2, 0, 0]))\n",
    "for i in range(len(camera_poses)):\n",
    "    ned = R.from_quat(np.array(train_data[[\"Q_X\", \"Q_Y\", \"Q_Z\", \"Q_W\"]].iloc[i,:]))\n",
    "    enu = (ned.inv() * ned2enu).inv().as_quat()\n",
    "    enus.append(enu)\n",
    "    q_err.append(cal_quat_angle_error(camera_poses[[\"Q_X\", \"Q_Y\", \"Q_Z\", \"Q_W\"]].iloc[i,:], enu).item())\n",
    "print(f'Orientation error {np.median(q_err)} (median) deg, {np.mean(q_err)} (mean) deg')"
   ]
  },
  {
   "cell_type": "code",
   "execution_count": null,
   "metadata": {},
   "outputs": [],
   "source": [
    "enus = pd.DataFrame(enus, columns=[\"Q_X\",\"Q_Y\",\"Q_Z\", \"Q_W\"])\n",
    "enus.plot()"
   ]
  },
  {
   "cell_type": "code",
   "execution_count": null,
   "metadata": {},
   "outputs": [],
   "source": [
    "train_data_mod = train_data.copy()\n",
    "train_data_mod[\"POS_X\"] = adjusted_colmap_points[\"POS_X\"]\n",
    "train_data_mod[\"POS_Y\"] = adjusted_colmap_points[\"POS_Y\"]\n",
    "train_data_mod[\"POS_Z\"] = adjusted_colmap_points[\"POS_Z\"]\n",
    "train_data_mod[\"Q_X\"] = adjusted_colmap_ori[\"Q_X\"]\n",
    "train_data_mod[\"Q_Y\"] = adjusted_colmap_ori[\"Q_Y\"]\n",
    "train_data_mod[\"Q_Z\"] = adjusted_colmap_ori[\"Q_Z\"]\n",
    "train_data_mod[\"Q_W\"] = adjusted_colmap_ori[\"Q_W\"]"
   ]
  },
  {
   "cell_type": "code",
   "execution_count": null,
   "metadata": {},
   "outputs": [],
   "source": [
    "train_data_mod.to_csv(f'{true_gt_folder}/colmap_v2.txt', header=True, index=None, sep='\\t', mode='w')"
   ]
  },
  {
   "cell_type": "code",
   "execution_count": null,
   "metadata": {},
   "outputs": [],
   "source": [
    "train_data_mod[[\"Q_W\", \"Q_X\", \"Q_Y\", \"Q_Z\"]].plot()"
   ]
  }
 ],
 "metadata": {
  "interpreter": {
   "hash": "635c79679d6299709eb96f66ba2e6ffa844001ed5388d3b311d892fec26449e0"
  },
  "kernelspec": {
   "display_name": "Python 3.8.8 ('base')",
   "language": "python",
   "name": "python3"
  },
  "language_info": {
   "codemirror_mode": {
    "name": "ipython",
    "version": 3
   },
   "file_extension": ".py",
   "mimetype": "text/x-python",
   "name": "python",
   "nbconvert_exporter": "python",
   "pygments_lexer": "ipython3",
   "version": "3.8.8"
  },
  "orig_nbformat": 4
 },
 "nbformat": 4,
 "nbformat_minor": 2
}
